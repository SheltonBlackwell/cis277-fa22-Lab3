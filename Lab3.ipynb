{
  "cells": [
    {
      "cell_type": "markdown",
      "metadata": {},
      "source": [
        "# Lab 3 - Video Game Reviews"
      ]
    },
    {
      "cell_type": "code",
      "execution_count": 551,
      "metadata": {
        "id": "gIWe8vk2fPX7"
      },
      "outputs": [],
      "source": [
        "import pandas as pd"
      ]
    },
    {
      "cell_type": "markdown",
      "metadata": {
        "id": "4N0ty0ecrWcn"
      },
      "source": [
        "## Import Data"
      ]
    },
    {
      "cell_type": "code",
      "execution_count": 552,
      "metadata": {
        "id": "qY7nb0rAgWrr"
      },
      "outputs": [],
      "source": [
        "df = pd.read_csv('imdb-videogames.csv')"
      ]
    },
    {
      "cell_type": "code",
      "execution_count": 553,
      "metadata": {
        "colab": {
          "base_uri": "https://localhost:8080/",
          "height": 359
        },
        "id": "eIkZ2SBehFrY",
        "outputId": "8952e428-b938-4933-b581-9be7ddf2cdea"
      },
      "outputs": [
        {
          "data": {
            "text/html": [
              "<div>\n",
              "<style scoped>\n",
              "    .dataframe tbody tr th:only-of-type {\n",
              "        vertical-align: middle;\n",
              "    }\n",
              "\n",
              "    .dataframe tbody tr th {\n",
              "        vertical-align: top;\n",
              "    }\n",
              "\n",
              "    .dataframe thead th {\n",
              "        text-align: right;\n",
              "    }\n",
              "</style>\n",
              "<table border=\"1\" class=\"dataframe\">\n",
              "  <thead>\n",
              "    <tr style=\"text-align: right;\">\n",
              "      <th></th>\n",
              "      <th>Unnamed: 0</th>\n",
              "      <th>name</th>\n",
              "      <th>url</th>\n",
              "      <th>year</th>\n",
              "      <th>certificate</th>\n",
              "      <th>rating</th>\n",
              "      <th>votes</th>\n",
              "      <th>plot summary</th>\n",
              "      <th>Action</th>\n",
              "      <th>Adventure</th>\n",
              "      <th>Comedy</th>\n",
              "      <th>Crime</th>\n",
              "      <th>Family</th>\n",
              "      <th>Fantasy</th>\n",
              "      <th>Mystery</th>\n",
              "      <th>Sci-Fi</th>\n",
              "      <th>Thriller</th>\n",
              "    </tr>\n",
              "  </thead>\n",
              "  <tbody>\n",
              "    <tr>\n",
              "      <th>0</th>\n",
              "      <td>0</td>\n",
              "      <td>Spider-Man</td>\n",
              "      <td>https://www.imdb.com/title/tt5807780/?ref_=adv...</td>\n",
              "      <td>2018.0</td>\n",
              "      <td>T</td>\n",
              "      <td>9.2</td>\n",
              "      <td>20,759</td>\n",
              "      <td>When a new villain threatens New York City, Pe...</td>\n",
              "      <td>True</td>\n",
              "      <td>True</td>\n",
              "      <td>False</td>\n",
              "      <td>False</td>\n",
              "      <td>False</td>\n",
              "      <td>True</td>\n",
              "      <td>False</td>\n",
              "      <td>False</td>\n",
              "      <td>False</td>\n",
              "    </tr>\n",
              "    <tr>\n",
              "      <th>1</th>\n",
              "      <td>1</td>\n",
              "      <td>Red Dead Redemption II</td>\n",
              "      <td>https://www.imdb.com/title/tt6161168/?ref_=adv...</td>\n",
              "      <td>2018.0</td>\n",
              "      <td>M</td>\n",
              "      <td>9.7</td>\n",
              "      <td>35,703</td>\n",
              "      <td>Amidst the decline of the Wild West at the tur...</td>\n",
              "      <td>True</td>\n",
              "      <td>True</td>\n",
              "      <td>False</td>\n",
              "      <td>True</td>\n",
              "      <td>False</td>\n",
              "      <td>False</td>\n",
              "      <td>False</td>\n",
              "      <td>False</td>\n",
              "      <td>False</td>\n",
              "    </tr>\n",
              "    <tr>\n",
              "      <th>2</th>\n",
              "      <td>2</td>\n",
              "      <td>Grand Theft Auto V</td>\n",
              "      <td>https://www.imdb.com/title/tt2103188/?ref_=adv...</td>\n",
              "      <td>2013.0</td>\n",
              "      <td>M</td>\n",
              "      <td>9.5</td>\n",
              "      <td>59,986</td>\n",
              "      <td>Three very different criminals team up for a s...</td>\n",
              "      <td>True</td>\n",
              "      <td>False</td>\n",
              "      <td>False</td>\n",
              "      <td>True</td>\n",
              "      <td>False</td>\n",
              "      <td>False</td>\n",
              "      <td>False</td>\n",
              "      <td>False</td>\n",
              "      <td>False</td>\n",
              "    </tr>\n",
              "    <tr>\n",
              "      <th>3</th>\n",
              "      <td>3</td>\n",
              "      <td>God of War</td>\n",
              "      <td>https://www.imdb.com/title/tt5838588/?ref_=adv...</td>\n",
              "      <td>2018.0</td>\n",
              "      <td>M</td>\n",
              "      <td>9.6</td>\n",
              "      <td>26,118</td>\n",
              "      <td>After wiping out the gods of Mount Olympus, Kr...</td>\n",
              "      <td>True</td>\n",
              "      <td>True</td>\n",
              "      <td>False</td>\n",
              "      <td>False</td>\n",
              "      <td>False</td>\n",
              "      <td>False</td>\n",
              "      <td>False</td>\n",
              "      <td>False</td>\n",
              "      <td>False</td>\n",
              "    </tr>\n",
              "    <tr>\n",
              "      <th>4</th>\n",
              "      <td>4</td>\n",
              "      <td>Uncharted 4: A Thief's End</td>\n",
              "      <td>https://www.imdb.com/title/tt3334704/?ref_=adv...</td>\n",
              "      <td>2016.0</td>\n",
              "      <td>T</td>\n",
              "      <td>9.5</td>\n",
              "      <td>28,722</td>\n",
              "      <td>Thrown back into the dangerous underworld he'd...</td>\n",
              "      <td>True</td>\n",
              "      <td>True</td>\n",
              "      <td>False</td>\n",
              "      <td>False</td>\n",
              "      <td>False</td>\n",
              "      <td>False</td>\n",
              "      <td>False</td>\n",
              "      <td>False</td>\n",
              "      <td>False</td>\n",
              "    </tr>\n",
              "  </tbody>\n",
              "</table>\n",
              "</div>"
            ],
            "text/plain": [
              "   Unnamed: 0                        name  \\\n",
              "0           0                  Spider-Man   \n",
              "1           1      Red Dead Redemption II   \n",
              "2           2          Grand Theft Auto V   \n",
              "3           3                  God of War   \n",
              "4           4  Uncharted 4: A Thief's End   \n",
              "\n",
              "                                                 url    year certificate  \\\n",
              "0  https://www.imdb.com/title/tt5807780/?ref_=adv...  2018.0           T   \n",
              "1  https://www.imdb.com/title/tt6161168/?ref_=adv...  2018.0           M   \n",
              "2  https://www.imdb.com/title/tt2103188/?ref_=adv...  2013.0           M   \n",
              "3  https://www.imdb.com/title/tt5838588/?ref_=adv...  2018.0           M   \n",
              "4  https://www.imdb.com/title/tt3334704/?ref_=adv...  2016.0           T   \n",
              "\n",
              "  rating   votes                                       plot summary  Action  \\\n",
              "0    9.2  20,759  When a new villain threatens New York City, Pe...    True   \n",
              "1    9.7  35,703  Amidst the decline of the Wild West at the tur...    True   \n",
              "2    9.5  59,986  Three very different criminals team up for a s...    True   \n",
              "3    9.6  26,118  After wiping out the gods of Mount Olympus, Kr...    True   \n",
              "4    9.5  28,722  Thrown back into the dangerous underworld he'd...    True   \n",
              "\n",
              "   Adventure  Comedy  Crime  Family  Fantasy  Mystery  Sci-Fi  Thriller  \n",
              "0       True   False  False   False     True    False   False     False  \n",
              "1       True   False   True   False    False    False   False     False  \n",
              "2      False   False   True   False    False    False   False     False  \n",
              "3       True   False  False   False    False    False   False     False  \n",
              "4       True   False  False   False    False    False   False     False  "
            ]
          },
          "execution_count": 553,
          "metadata": {},
          "output_type": "execute_result"
        }
      ],
      "source": [
        "df.head()"
      ]
    },
    {
      "cell_type": "code",
      "execution_count": 554,
      "metadata": {
        "colab": {
          "base_uri": "https://localhost:8080/"
        },
        "id": "eR6x6BUwhptZ",
        "outputId": "e2b94951-3d5d-47bf-e3e4-c5c571d2d879"
      },
      "outputs": [
        {
          "data": {
            "text/plain": [
              "(20805, 17)"
            ]
          },
          "execution_count": 554,
          "metadata": {},
          "output_type": "execute_result"
        }
      ],
      "source": [
        "df.shape"
      ]
    },
    {
      "cell_type": "code",
      "execution_count": 555,
      "metadata": {
        "colab": {
          "base_uri": "https://localhost:8080/"
        },
        "id": "kx4xO7-biEGK",
        "outputId": "a5d0a366-f1eb-46e6-a56b-59699a4d9fad"
      },
      "outputs": [
        {
          "name": "stdout",
          "output_type": "stream",
          "text": [
            "<class 'pandas.core.frame.DataFrame'>\n",
            "RangeIndex: 20805 entries, 0 to 20804\n",
            "Data columns (total 17 columns):\n",
            " #   Column        Non-Null Count  Dtype  \n",
            "---  ------        --------------  -----  \n",
            " 0   Unnamed: 0    20805 non-null  int64  \n",
            " 1   name          20805 non-null  object \n",
            " 2   url           20805 non-null  object \n",
            " 3   year          20538 non-null  float64\n",
            " 4   certificate   7905 non-null   object \n",
            " 5   rating        11602 non-null  object \n",
            " 6   votes         11602 non-null  object \n",
            " 7   plot summary  20805 non-null  object \n",
            " 8   Action        20805 non-null  bool   \n",
            " 9   Adventure     20805 non-null  bool   \n",
            " 10  Comedy        20805 non-null  bool   \n",
            " 11  Crime         20805 non-null  bool   \n",
            " 12  Family        20805 non-null  bool   \n",
            " 13  Fantasy       20805 non-null  bool   \n",
            " 14  Mystery       20805 non-null  bool   \n",
            " 15  Sci-Fi        20805 non-null  bool   \n",
            " 16  Thriller      20805 non-null  bool   \n",
            "dtypes: bool(9), float64(1), int64(1), object(6)\n",
            "memory usage: 1.4+ MB\n"
          ]
        }
      ],
      "source": [
        "df.info()"
      ]
    },
    {
      "cell_type": "code",
      "execution_count": 556,
      "metadata": {},
      "outputs": [
        {
          "data": {
            "text/plain": [
              "T            2474\n",
              "E            2006\n",
              "M            1820\n",
              "E10+          814\n",
              "Unrated       241\n",
              "K-A           229\n",
              "Not Rated     184\n",
              "AO             32\n",
              "GA             26\n",
              "EC             25\n",
              "CE             13\n",
              "12              9\n",
              "PG-13           7\n",
              "MA-13           7\n",
              "Approved        4\n",
              "G               4\n",
              "MA-17           3\n",
              "PG              3\n",
              "TV-MA           2\n",
              "Passed          1\n",
              "TV-14           1\n",
              "Name: certificate, dtype: int64"
            ]
          },
          "execution_count": 556,
          "metadata": {},
          "output_type": "execute_result"
        }
      ],
      "source": [
        "df.certificate.value_counts()"
      ]
    },
    {
      "cell_type": "code",
      "execution_count": 557,
      "metadata": {},
      "outputs": [
        {
          "data": {
            "text/plain": [
              "2"
            ]
          },
          "execution_count": 557,
          "metadata": {},
          "output_type": "execute_result"
        }
      ],
      "source": [
        "df.duplicated().sum()"
      ]
    },
    {
      "cell_type": "code",
      "execution_count": 558,
      "metadata": {},
      "outputs": [],
      "source": [
        "df.drop_duplicates(inplace=True)"
      ]
    },
    {
      "cell_type": "code",
      "execution_count": 559,
      "metadata": {},
      "outputs": [
        {
          "data": {
            "text/plain": [
              "0"
            ]
          },
          "execution_count": 559,
          "metadata": {},
          "output_type": "execute_result"
        }
      ],
      "source": [
        "df.duplicated().sum()"
      ]
    },
    {
      "cell_type": "code",
      "execution_count": 560,
      "metadata": {},
      "outputs": [],
      "source": [
        "df.dtypes\n",
        "\n",
        "df.rating.replace(' ', inplace=True)\n",
        "df.rating.replace('*9.0', '9', inplace=True)\n",
        "df.rating = df.rating.astype(float)\n",
        "df.votes.replace(' ', inplace=True)\n",
        "df.votes = df.votes.str.replace(',', '')\n",
        "df.votes = df.votes.astype(float)"
      ]
    },
    {
      "cell_type": "code",
      "execution_count": 561,
      "metadata": {},
      "outputs": [
        {
          "name": "stdout",
          "output_type": "stream",
          "text": [
            "<class 'pandas.core.frame.DataFrame'>\n",
            "Int64Index: 20803 entries, 0 to 20804\n",
            "Data columns (total 17 columns):\n",
            " #   Column        Non-Null Count  Dtype  \n",
            "---  ------        --------------  -----  \n",
            " 0   Unnamed: 0    20803 non-null  int64  \n",
            " 1   name          20803 non-null  object \n",
            " 2   url           20803 non-null  object \n",
            " 3   year          20536 non-null  float64\n",
            " 4   certificate   7903 non-null   object \n",
            " 5   rating        11600 non-null  float64\n",
            " 6   votes         11600 non-null  float64\n",
            " 7   plot summary  20803 non-null  object \n",
            " 8   Action        20803 non-null  bool   \n",
            " 9   Adventure     20803 non-null  bool   \n",
            " 10  Comedy        20803 non-null  bool   \n",
            " 11  Crime         20803 non-null  bool   \n",
            " 12  Family        20803 non-null  bool   \n",
            " 13  Fantasy       20803 non-null  bool   \n",
            " 14  Mystery       20803 non-null  bool   \n",
            " 15  Sci-Fi        20803 non-null  bool   \n",
            " 16  Thriller      20803 non-null  bool   \n",
            "dtypes: bool(9), float64(3), int64(1), object(4)\n",
            "memory usage: 1.6+ MB\n"
          ]
        }
      ],
      "source": [
        "df.info()"
      ]
    },
    {
      "cell_type": "code",
      "execution_count": 562,
      "metadata": {},
      "outputs": [],
      "source": [
        "df.columns\n",
        "df.drop('Unnamed: 0', axis = 1, inplace=True)\n",
        "df.rename(columns={'plot summary':'plot_summary'}, inplace=True)\n",
        "df.rename(columns={'Sci-Fi':'Sci_Fi'}, inplace= True)"
      ]
    },
    {
      "cell_type": "markdown",
      "metadata": {},
      "source": [
        "## Questions"
      ]
    },
    {
      "cell_type": "markdown",
      "metadata": {},
      "source": [
        "### 1. What is the average rating for Action games?"
      ]
    },
    {
      "cell_type": "markdown",
      "metadata": {},
      "source": [
        "- messing with groupby... don't know how to get rid of the False so making another line of code below it."
      ]
    },
    {
      "cell_type": "code",
      "execution_count": 595,
      "metadata": {},
      "outputs": [
        {
          "data": {
            "text/plain": [
              "Action\n",
              "False    6.998812\n",
              "True     7.068878\n",
              "Name: rating, dtype: float64"
            ]
          },
          "execution_count": 595,
          "metadata": {},
          "output_type": "execute_result"
        }
      ],
      "source": [
        "df.groupby(by ='Action').rating.mean()"
      ]
    },
    {
      "cell_type": "code",
      "execution_count": 563,
      "metadata": {},
      "outputs": [
        {
          "data": {
            "text/plain": [
              "7.068877867327932"
            ]
          },
          "execution_count": 563,
          "metadata": {},
          "output_type": "execute_result"
        }
      ],
      "source": [
        "df[df.Action].rating.mean()"
      ]
    },
    {
      "cell_type": "markdown",
      "metadata": {},
      "source": [
        "### 2. What is the average rating of games after 2010? What is the average rating of games before (and including) 2010?"
      ]
    },
    {
      "cell_type": "code",
      "execution_count": 564,
      "metadata": {},
      "outputs": [
        {
          "data": {
            "text/plain": [
              "7.119838056680145"
            ]
          },
          "execution_count": 564,
          "metadata": {},
          "output_type": "execute_result"
        }
      ],
      "source": [
        "game_votes = df[(df.year > 2010) ].rating.mean()\n",
        "game_votes"
      ]
    },
    {
      "cell_type": "code",
      "execution_count": 565,
      "metadata": {},
      "outputs": [
        {
          "data": {
            "text/plain": [
              "7.00639189189191"
            ]
          },
          "execution_count": 565,
          "metadata": {},
          "output_type": "execute_result"
        }
      ],
      "source": [
        "game_votes = df[(df.year <= 2010) ].rating.mean()\n",
        "game_votes"
      ]
    },
    {
      "cell_type": "markdown",
      "metadata": {},
      "source": [
        "### 3. What games include \"Fallout\" in their title?"
      ]
    },
    {
      "cell_type": "code",
      "execution_count": 566,
      "metadata": {},
      "outputs": [
        {
          "data": {
            "text/html": [
              "<div>\n",
              "<style scoped>\n",
              "    .dataframe tbody tr th:only-of-type {\n",
              "        vertical-align: middle;\n",
              "    }\n",
              "\n",
              "    .dataframe tbody tr th {\n",
              "        vertical-align: top;\n",
              "    }\n",
              "\n",
              "    .dataframe thead th {\n",
              "        text-align: right;\n",
              "    }\n",
              "</style>\n",
              "<table border=\"1\" class=\"dataframe\">\n",
              "  <thead>\n",
              "    <tr style=\"text-align: right;\">\n",
              "      <th></th>\n",
              "      <th>name</th>\n",
              "      <th>url</th>\n",
              "      <th>year</th>\n",
              "      <th>certificate</th>\n",
              "      <th>rating</th>\n",
              "      <th>votes</th>\n",
              "      <th>plot_summary</th>\n",
              "      <th>Action</th>\n",
              "      <th>Adventure</th>\n",
              "      <th>Comedy</th>\n",
              "      <th>Crime</th>\n",
              "      <th>Family</th>\n",
              "      <th>Fantasy</th>\n",
              "      <th>Mystery</th>\n",
              "      <th>Sci_Fi</th>\n",
              "      <th>Thriller</th>\n",
              "    </tr>\n",
              "  </thead>\n",
              "  <tbody>\n",
              "    <tr>\n",
              "      <th>29</th>\n",
              "      <td>Fallout: New Vegas</td>\n",
              "      <td>https://www.imdb.com/title/tt1706601/?ref_=adv...</td>\n",
              "      <td>2010.0</td>\n",
              "      <td>M</td>\n",
              "      <td>8.9</td>\n",
              "      <td>12296.0</td>\n",
              "      <td>After surviving a bullet to the head, Courier ...</td>\n",
              "      <td>True</td>\n",
              "      <td>True</td>\n",
              "      <td>False</td>\n",
              "      <td>False</td>\n",
              "      <td>False</td>\n",
              "      <td>False</td>\n",
              "      <td>False</td>\n",
              "      <td>True</td>\n",
              "      <td>False</td>\n",
              "    </tr>\n",
              "    <tr>\n",
              "      <th>37</th>\n",
              "      <td>Fallout 4</td>\n",
              "      <td>https://www.imdb.com/title/tt4741306/?ref_=adv...</td>\n",
              "      <td>2015.0</td>\n",
              "      <td>M</td>\n",
              "      <td>8.6</td>\n",
              "      <td>12790.0</td>\n",
              "      <td>In the post-apocalyptic Boston, Massachusetts ...</td>\n",
              "      <td>True</td>\n",
              "      <td>True</td>\n",
              "      <td>False</td>\n",
              "      <td>False</td>\n",
              "      <td>False</td>\n",
              "      <td>False</td>\n",
              "      <td>False</td>\n",
              "      <td>True</td>\n",
              "      <td>False</td>\n",
              "    </tr>\n",
              "    <tr>\n",
              "      <th>115</th>\n",
              "      <td>Fallout 3</td>\n",
              "      <td>https://www.imdb.com/title/tt1073664/?ref_=adv...</td>\n",
              "      <td>2008.0</td>\n",
              "      <td>M</td>\n",
              "      <td>9.1</td>\n",
              "      <td>18904.0</td>\n",
              "      <td>Centuries following nuclear war, a teen leaves...</td>\n",
              "      <td>True</td>\n",
              "      <td>True</td>\n",
              "      <td>False</td>\n",
              "      <td>False</td>\n",
              "      <td>False</td>\n",
              "      <td>False</td>\n",
              "      <td>False</td>\n",
              "      <td>True</td>\n",
              "      <td>False</td>\n",
              "    </tr>\n",
              "    <tr>\n",
              "      <th>207</th>\n",
              "      <td>Fallout 76</td>\n",
              "      <td>https://www.imdb.com/title/tt8495446/?ref_=adv...</td>\n",
              "      <td>2018.0</td>\n",
              "      <td>M</td>\n",
              "      <td>4.0</td>\n",
              "      <td>1756.0</td>\n",
              "      <td>Twenty-five years after the bombs fall, you an...</td>\n",
              "      <td>True</td>\n",
              "      <td>True</td>\n",
              "      <td>False</td>\n",
              "      <td>False</td>\n",
              "      <td>False</td>\n",
              "      <td>False</td>\n",
              "      <td>False</td>\n",
              "      <td>True</td>\n",
              "      <td>False</td>\n",
              "    </tr>\n",
              "    <tr>\n",
              "      <th>340</th>\n",
              "      <td>Fallout: A Post-Nuclear Role-Playing Game</td>\n",
              "      <td>https://www.imdb.com/title/tt0134648/?ref_=adv...</td>\n",
              "      <td>1997.0</td>\n",
              "      <td>M</td>\n",
              "      <td>9.2</td>\n",
              "      <td>3772.0</td>\n",
              "      <td>After being sent by the overseer of his vault ...</td>\n",
              "      <td>True</td>\n",
              "      <td>True</td>\n",
              "      <td>False</td>\n",
              "      <td>False</td>\n",
              "      <td>False</td>\n",
              "      <td>False</td>\n",
              "      <td>False</td>\n",
              "      <td>True</td>\n",
              "      <td>False</td>\n",
              "    </tr>\n",
              "    <tr>\n",
              "      <th>437</th>\n",
              "      <td>Fallout 2: A Post-Nuclear Role-Playing Game</td>\n",
              "      <td>https://www.imdb.com/title/tt0183066/?ref_=adv...</td>\n",
              "      <td>1998.0</td>\n",
              "      <td>M</td>\n",
              "      <td>9.4</td>\n",
              "      <td>3861.0</td>\n",
              "      <td>In a post-nuclear future, the descendant of an...</td>\n",
              "      <td>True</td>\n",
              "      <td>True</td>\n",
              "      <td>False</td>\n",
              "      <td>False</td>\n",
              "      <td>False</td>\n",
              "      <td>False</td>\n",
              "      <td>False</td>\n",
              "      <td>True</td>\n",
              "      <td>False</td>\n",
              "    </tr>\n",
              "    <tr>\n",
              "      <th>1062</th>\n",
              "      <td>Fallout: The Frontier</td>\n",
              "      <td>https://www.imdb.com/title/tt7471838/?ref_=adv...</td>\n",
              "      <td>2021.0</td>\n",
              "      <td>NaN</td>\n",
              "      <td>4.1</td>\n",
              "      <td>24.0</td>\n",
              "      <td>The ongoing conflict between the Legion and th...</td>\n",
              "      <td>True</td>\n",
              "      <td>True</td>\n",
              "      <td>False</td>\n",
              "      <td>False</td>\n",
              "      <td>False</td>\n",
              "      <td>False</td>\n",
              "      <td>False</td>\n",
              "      <td>True</td>\n",
              "      <td>False</td>\n",
              "    </tr>\n",
              "    <tr>\n",
              "      <th>1233</th>\n",
              "      <td>Fallout Tactics: Brotherhood of Steel</td>\n",
              "      <td>https://www.imdb.com/title/tt0246614/?ref_=adv...</td>\n",
              "      <td>2001.0</td>\n",
              "      <td>M</td>\n",
              "      <td>7.4</td>\n",
              "      <td>784.0</td>\n",
              "      <td>The Brotherhood of Steel, a faction of technol...</td>\n",
              "      <td>True</td>\n",
              "      <td>True</td>\n",
              "      <td>False</td>\n",
              "      <td>False</td>\n",
              "      <td>False</td>\n",
              "      <td>False</td>\n",
              "      <td>False</td>\n",
              "      <td>True</td>\n",
              "      <td>False</td>\n",
              "    </tr>\n",
              "    <tr>\n",
              "      <th>1872</th>\n",
              "      <td>Fallout: New Vegas - Honest Hearts</td>\n",
              "      <td>https://www.imdb.com/title/tt13259848/?ref_=ad...</td>\n",
              "      <td>2011.0</td>\n",
              "      <td>M</td>\n",
              "      <td>7.5</td>\n",
              "      <td>74.0</td>\n",
              "      <td>The story leads the protagonist to the Canyon ...</td>\n",
              "      <td>True</td>\n",
              "      <td>True</td>\n",
              "      <td>False</td>\n",
              "      <td>False</td>\n",
              "      <td>False</td>\n",
              "      <td>False</td>\n",
              "      <td>False</td>\n",
              "      <td>True</td>\n",
              "      <td>False</td>\n",
              "    </tr>\n",
              "    <tr>\n",
              "      <th>1964</th>\n",
              "      <td>Fallout 4: New Vegas</td>\n",
              "      <td>https://www.imdb.com/title/tt9054854/?ref_=adv...</td>\n",
              "      <td>2019.0</td>\n",
              "      <td>NaN</td>\n",
              "      <td>6.2</td>\n",
              "      <td>15.0</td>\n",
              "      <td>An unofficial fan-made recreation of Fallout: ...</td>\n",
              "      <td>True</td>\n",
              "      <td>True</td>\n",
              "      <td>False</td>\n",
              "      <td>False</td>\n",
              "      <td>False</td>\n",
              "      <td>False</td>\n",
              "      <td>False</td>\n",
              "      <td>True</td>\n",
              "      <td>False</td>\n",
              "    </tr>\n",
              "    <tr>\n",
              "      <th>2003</th>\n",
              "      <td>Fallout: Brotherhood of Steel</td>\n",
              "      <td>https://www.imdb.com/title/tt0426456/?ref_=adv...</td>\n",
              "      <td>2004.0</td>\n",
              "      <td>NaN</td>\n",
              "      <td>5.5</td>\n",
              "      <td>111.0</td>\n",
              "      <td>The adventures of an initiate in the Brotherho...</td>\n",
              "      <td>True</td>\n",
              "      <td>True</td>\n",
              "      <td>False</td>\n",
              "      <td>False</td>\n",
              "      <td>False</td>\n",
              "      <td>False</td>\n",
              "      <td>False</td>\n",
              "      <td>True</td>\n",
              "      <td>False</td>\n",
              "    </tr>\n",
              "    <tr>\n",
              "      <th>2117</th>\n",
              "      <td>Fallout: New Vegas - Old World Blues</td>\n",
              "      <td>https://www.imdb.com/title/tt13627658/?ref_=ad...</td>\n",
              "      <td>2011.0</td>\n",
              "      <td>NaN</td>\n",
              "      <td>8.3</td>\n",
              "      <td>77.0</td>\n",
              "      <td>After being transported to the Big MT research...</td>\n",
              "      <td>True</td>\n",
              "      <td>True</td>\n",
              "      <td>False</td>\n",
              "      <td>False</td>\n",
              "      <td>False</td>\n",
              "      <td>False</td>\n",
              "      <td>False</td>\n",
              "      <td>True</td>\n",
              "      <td>False</td>\n",
              "    </tr>\n",
              "    <tr>\n",
              "      <th>2170</th>\n",
              "      <td>Fallout Legacy Collection</td>\n",
              "      <td>https://www.imdb.com/title/tt13409472/?ref_=ad...</td>\n",
              "      <td>2019.0</td>\n",
              "      <td>NaN</td>\n",
              "      <td>5.8</td>\n",
              "      <td>6.0</td>\n",
              "      <td>Add a Plot</td>\n",
              "      <td>True</td>\n",
              "      <td>False</td>\n",
              "      <td>False</td>\n",
              "      <td>False</td>\n",
              "      <td>False</td>\n",
              "      <td>False</td>\n",
              "      <td>False</td>\n",
              "      <td>False</td>\n",
              "      <td>False</td>\n",
              "    </tr>\n",
              "    <tr>\n",
              "      <th>2362</th>\n",
              "      <td>Fallout: New Vegas - Simply Uncut</td>\n",
              "      <td>https://www.imdb.com/title/tt15448278/?ref_=ad...</td>\n",
              "      <td>2019.0</td>\n",
              "      <td>NaN</td>\n",
              "      <td>NaN</td>\n",
              "      <td>NaN</td>\n",
              "      <td>Many NPCs, areas, items, quests, and concepts ...</td>\n",
              "      <td>True</td>\n",
              "      <td>False</td>\n",
              "      <td>False</td>\n",
              "      <td>False</td>\n",
              "      <td>False</td>\n",
              "      <td>False</td>\n",
              "      <td>False</td>\n",
              "      <td>False</td>\n",
              "      <td>False</td>\n",
              "    </tr>\n",
              "    <tr>\n",
              "      <th>2472</th>\n",
              "      <td>Fallout 4: Far Harbor</td>\n",
              "      <td>https://www.imdb.com/title/tt13877574/?ref_=ad...</td>\n",
              "      <td>2016.0</td>\n",
              "      <td>NaN</td>\n",
              "      <td>8.0</td>\n",
              "      <td>69.0</td>\n",
              "      <td>A new case from Valentine's Detective Agency l...</td>\n",
              "      <td>True</td>\n",
              "      <td>True</td>\n",
              "      <td>False</td>\n",
              "      <td>False</td>\n",
              "      <td>False</td>\n",
              "      <td>False</td>\n",
              "      <td>False</td>\n",
              "      <td>True</td>\n",
              "      <td>False</td>\n",
              "    </tr>\n",
              "    <tr>\n",
              "      <th>2549</th>\n",
              "      <td>Fallout: New Vegas - Dead Money</td>\n",
              "      <td>https://www.imdb.com/title/tt13129016/?ref_=ad...</td>\n",
              "      <td>2010.0</td>\n",
              "      <td>NaN</td>\n",
              "      <td>7.3</td>\n",
              "      <td>72.0</td>\n",
              "      <td>You, the courier, were drawn to an abandoned B...</td>\n",
              "      <td>True</td>\n",
              "      <td>True</td>\n",
              "      <td>False</td>\n",
              "      <td>False</td>\n",
              "      <td>False</td>\n",
              "      <td>False</td>\n",
              "      <td>False</td>\n",
              "      <td>False</td>\n",
              "      <td>False</td>\n",
              "    </tr>\n",
              "    <tr>\n",
              "      <th>2681</th>\n",
              "      <td>Fallout: Miami</td>\n",
              "      <td>https://www.imdb.com/title/tt9243702/?ref_=adv...</td>\n",
              "      <td>2019.0</td>\n",
              "      <td>NaN</td>\n",
              "      <td>NaN</td>\n",
              "      <td>NaN</td>\n",
              "      <td>Journey to the post-nuclear vacation wasteland...</td>\n",
              "      <td>True</td>\n",
              "      <td>True</td>\n",
              "      <td>False</td>\n",
              "      <td>False</td>\n",
              "      <td>False</td>\n",
              "      <td>False</td>\n",
              "      <td>False</td>\n",
              "      <td>True</td>\n",
              "      <td>False</td>\n",
              "    </tr>\n",
              "    <tr>\n",
              "      <th>2718</th>\n",
              "      <td>Fallout 4: Fusion City Rising</td>\n",
              "      <td>https://www.imdb.com/title/tt6108962/?ref_=adv...</td>\n",
              "      <td>2016.0</td>\n",
              "      <td>NaN</td>\n",
              "      <td>7.9</td>\n",
              "      <td>12.0</td>\n",
              "      <td>Join Peter on a wild adventure to stop religio...</td>\n",
              "      <td>True</td>\n",
              "      <td>True</td>\n",
              "      <td>False</td>\n",
              "      <td>False</td>\n",
              "      <td>False</td>\n",
              "      <td>False</td>\n",
              "      <td>False</td>\n",
              "      <td>False</td>\n",
              "      <td>False</td>\n",
              "    </tr>\n",
              "    <tr>\n",
              "      <th>2861</th>\n",
              "      <td>Fallout: New California</td>\n",
              "      <td>https://www.imdb.com/title/tt9162260/?ref_=adv...</td>\n",
              "      <td>2018.0</td>\n",
              "      <td>NaN</td>\n",
              "      <td>6.4</td>\n",
              "      <td>7.0</td>\n",
              "      <td>An all new story around an adopted resident of...</td>\n",
              "      <td>True</td>\n",
              "      <td>True</td>\n",
              "      <td>False</td>\n",
              "      <td>False</td>\n",
              "      <td>False</td>\n",
              "      <td>False</td>\n",
              "      <td>False</td>\n",
              "      <td>True</td>\n",
              "      <td>False</td>\n",
              "    </tr>\n",
              "    <tr>\n",
              "      <th>3047</th>\n",
              "      <td>Fallout: New Vegas - Lonesome Road</td>\n",
              "      <td>https://www.imdb.com/title/tt13627682/?ref_=ad...</td>\n",
              "      <td>2011.0</td>\n",
              "      <td>NaN</td>\n",
              "      <td>7.7</td>\n",
              "      <td>60.0</td>\n",
              "      <td>Add a Plot</td>\n",
              "      <td>True</td>\n",
              "      <td>True</td>\n",
              "      <td>False</td>\n",
              "      <td>False</td>\n",
              "      <td>False</td>\n",
              "      <td>False</td>\n",
              "      <td>False</td>\n",
              "      <td>True</td>\n",
              "      <td>False</td>\n",
              "    </tr>\n",
              "    <tr>\n",
              "      <th>3086</th>\n",
              "      <td>Fallout 4: Heather Casdin</td>\n",
              "      <td>https://www.imdb.com/title/tt16604526/?ref_=ad...</td>\n",
              "      <td>2017.0</td>\n",
              "      <td>NaN</td>\n",
              "      <td>NaN</td>\n",
              "      <td>NaN</td>\n",
              "      <td>A unique companion mod for Fallout 4 which add...</td>\n",
              "      <td>True</td>\n",
              "      <td>True</td>\n",
              "      <td>False</td>\n",
              "      <td>False</td>\n",
              "      <td>False</td>\n",
              "      <td>False</td>\n",
              "      <td>False</td>\n",
              "      <td>False</td>\n",
              "      <td>False</td>\n",
              "    </tr>\n",
              "    <tr>\n",
              "      <th>3127</th>\n",
              "      <td>Fallout 3: Point Lookout</td>\n",
              "      <td>https://www.imdb.com/title/tt12702412/?ref_=ad...</td>\n",
              "      <td>2009.0</td>\n",
              "      <td>NaN</td>\n",
              "      <td>8.0</td>\n",
              "      <td>70.0</td>\n",
              "      <td>Point Lookout is the fourth downloadable expan...</td>\n",
              "      <td>True</td>\n",
              "      <td>True</td>\n",
              "      <td>False</td>\n",
              "      <td>False</td>\n",
              "      <td>False</td>\n",
              "      <td>False</td>\n",
              "      <td>False</td>\n",
              "      <td>False</td>\n",
              "      <td>False</td>\n",
              "    </tr>\n",
              "    <tr>\n",
              "      <th>3141</th>\n",
              "      <td>Fallout 3: Operation: Anchorage</td>\n",
              "      <td>https://www.imdb.com/title/tt12702392/?ref_=ad...</td>\n",
              "      <td>2009.0</td>\n",
              "      <td>NaN</td>\n",
              "      <td>6.7</td>\n",
              "      <td>73.0</td>\n",
              "      <td>This expansion adds four to five hours of war-...</td>\n",
              "      <td>True</td>\n",
              "      <td>True</td>\n",
              "      <td>False</td>\n",
              "      <td>False</td>\n",
              "      <td>False</td>\n",
              "      <td>False</td>\n",
              "      <td>False</td>\n",
              "      <td>True</td>\n",
              "      <td>False</td>\n",
              "    </tr>\n",
              "    <tr>\n",
              "      <th>3165</th>\n",
              "      <td>Fallout 4: Nuka-World</td>\n",
              "      <td>https://www.imdb.com/title/tt15378570/?ref_=ad...</td>\n",
              "      <td>2016.0</td>\n",
              "      <td>M</td>\n",
              "      <td>6.5</td>\n",
              "      <td>45.0</td>\n",
              "      <td>Take a trip to Nuka-World, a vast amusement pa...</td>\n",
              "      <td>True</td>\n",
              "      <td>True</td>\n",
              "      <td>False</td>\n",
              "      <td>False</td>\n",
              "      <td>False</td>\n",
              "      <td>False</td>\n",
              "      <td>False</td>\n",
              "      <td>True</td>\n",
              "      <td>False</td>\n",
              "    </tr>\n",
              "    <tr>\n",
              "      <th>3206</th>\n",
              "      <td>Fallout 3: Broken Steel</td>\n",
              "      <td>https://www.imdb.com/title/tt1925430/?ref_=adv...</td>\n",
              "      <td>2009.0</td>\n",
              "      <td>NaN</td>\n",
              "      <td>7.7</td>\n",
              "      <td>334.0</td>\n",
              "      <td>Expansion pack for Fallout 3 (2008). After Pro...</td>\n",
              "      <td>True</td>\n",
              "      <td>True</td>\n",
              "      <td>False</td>\n",
              "      <td>False</td>\n",
              "      <td>False</td>\n",
              "      <td>False</td>\n",
              "      <td>False</td>\n",
              "      <td>True</td>\n",
              "      <td>False</td>\n",
              "    </tr>\n",
              "    <tr>\n",
              "      <th>3440</th>\n",
              "      <td>Fallout 76: Steel Reign</td>\n",
              "      <td>https://www.imdb.com/title/tt14987880/?ref_=ad...</td>\n",
              "      <td>2021.0</td>\n",
              "      <td>NaN</td>\n",
              "      <td>5.0</td>\n",
              "      <td>11.0</td>\n",
              "      <td>Add a Plot</td>\n",
              "      <td>True</td>\n",
              "      <td>True</td>\n",
              "      <td>False</td>\n",
              "      <td>False</td>\n",
              "      <td>False</td>\n",
              "      <td>False</td>\n",
              "      <td>False</td>\n",
              "      <td>True</td>\n",
              "      <td>False</td>\n",
              "    </tr>\n",
              "    <tr>\n",
              "      <th>3554</th>\n",
              "      <td>Fallout 3: The Pitt</td>\n",
              "      <td>https://www.imdb.com/title/tt12702402/?ref_=ad...</td>\n",
              "      <td>2009.0</td>\n",
              "      <td>NaN</td>\n",
              "      <td>7.6</td>\n",
              "      <td>70.0</td>\n",
              "      <td>The fifth and final downloadable expansion for...</td>\n",
              "      <td>True</td>\n",
              "      <td>True</td>\n",
              "      <td>False</td>\n",
              "      <td>False</td>\n",
              "      <td>False</td>\n",
              "      <td>False</td>\n",
              "      <td>False</td>\n",
              "      <td>True</td>\n",
              "      <td>False</td>\n",
              "    </tr>\n",
              "    <tr>\n",
              "      <th>3615</th>\n",
              "      <td>Fallout 3: Mothership Zeta</td>\n",
              "      <td>https://www.imdb.com/title/tt12702432/?ref_=ad...</td>\n",
              "      <td>2009.0</td>\n",
              "      <td>NaN</td>\n",
              "      <td>6.4</td>\n",
              "      <td>72.0</td>\n",
              "      <td>The fifth and final downloadable expansion for...</td>\n",
              "      <td>True</td>\n",
              "      <td>True</td>\n",
              "      <td>False</td>\n",
              "      <td>False</td>\n",
              "      <td>False</td>\n",
              "      <td>False</td>\n",
              "      <td>False</td>\n",
              "      <td>True</td>\n",
              "      <td>False</td>\n",
              "    </tr>\n",
              "    <tr>\n",
              "      <th>3719</th>\n",
              "      <td>Fallout 76: Steel Dawn</td>\n",
              "      <td>https://www.imdb.com/title/tt13534124/?ref_=ad...</td>\n",
              "      <td>2020.0</td>\n",
              "      <td>NaN</td>\n",
              "      <td>6.4</td>\n",
              "      <td>28.0</td>\n",
              "      <td>Add a Plot</td>\n",
              "      <td>True</td>\n",
              "      <td>True</td>\n",
              "      <td>False</td>\n",
              "      <td>False</td>\n",
              "      <td>False</td>\n",
              "      <td>False</td>\n",
              "      <td>False</td>\n",
              "      <td>True</td>\n",
              "      <td>False</td>\n",
              "    </tr>\n",
              "    <tr>\n",
              "      <th>3731</th>\n",
              "      <td>Fallout 76: Expeditions - The Pitt</td>\n",
              "      <td>https://www.imdb.com/title/tt21040946/?ref_=ad...</td>\n",
              "      <td>2022.0</td>\n",
              "      <td>NaN</td>\n",
              "      <td>NaN</td>\n",
              "      <td>NaN</td>\n",
              "      <td>Add a Plot</td>\n",
              "      <td>True</td>\n",
              "      <td>False</td>\n",
              "      <td>False</td>\n",
              "      <td>False</td>\n",
              "      <td>False</td>\n",
              "      <td>False</td>\n",
              "      <td>False</td>\n",
              "      <td>False</td>\n",
              "      <td>False</td>\n",
              "    </tr>\n",
              "    <tr>\n",
              "      <th>4012</th>\n",
              "      <td>Fallout 4: Capital Wasteland</td>\n",
              "      <td>https://www.imdb.com/title/tt9543158/?ref_=adv...</td>\n",
              "      <td>NaN</td>\n",
              "      <td>NaN</td>\n",
              "      <td>NaN</td>\n",
              "      <td>NaN</td>\n",
              "      <td>Add a Plot</td>\n",
              "      <td>True</td>\n",
              "      <td>True</td>\n",
              "      <td>False</td>\n",
              "      <td>False</td>\n",
              "      <td>False</td>\n",
              "      <td>False</td>\n",
              "      <td>False</td>\n",
              "      <td>True</td>\n",
              "      <td>False</td>\n",
              "    </tr>\n",
              "    <tr>\n",
              "      <th>4190</th>\n",
              "      <td>Fallout 76: Wastelanders</td>\n",
              "      <td>https://www.imdb.com/title/tt13871682/?ref_=ad...</td>\n",
              "      <td>2020.0</td>\n",
              "      <td>NaN</td>\n",
              "      <td>5.8</td>\n",
              "      <td>32.0</td>\n",
              "      <td>Add a Plot</td>\n",
              "      <td>True</td>\n",
              "      <td>True</td>\n",
              "      <td>False</td>\n",
              "      <td>False</td>\n",
              "      <td>False</td>\n",
              "      <td>False</td>\n",
              "      <td>False</td>\n",
              "      <td>True</td>\n",
              "      <td>False</td>\n",
              "    </tr>\n",
              "    <tr>\n",
              "      <th>5306</th>\n",
              "      <td>Fallout 4: Automatron</td>\n",
              "      <td>https://www.imdb.com/title/tt15231134/?ref_=ad...</td>\n",
              "      <td>2016.0</td>\n",
              "      <td>M</td>\n",
              "      <td>6.4</td>\n",
              "      <td>30.0</td>\n",
              "      <td>The mysterious Mechanist has unleashed a horde...</td>\n",
              "      <td>True</td>\n",
              "      <td>True</td>\n",
              "      <td>False</td>\n",
              "      <td>False</td>\n",
              "      <td>False</td>\n",
              "      <td>False</td>\n",
              "      <td>False</td>\n",
              "      <td>True</td>\n",
              "      <td>False</td>\n",
              "    </tr>\n",
              "    <tr>\n",
              "      <th>8315</th>\n",
              "      <td>Fallout 4 - Point Lookout</td>\n",
              "      <td>https://www.imdb.com/title/tt20242232/?ref_=ad...</td>\n",
              "      <td>2022.0</td>\n",
              "      <td>NaN</td>\n",
              "      <td>NaN</td>\n",
              "      <td>NaN</td>\n",
              "      <td>Add a Plot</td>\n",
              "      <td>True</td>\n",
              "      <td>False</td>\n",
              "      <td>False</td>\n",
              "      <td>False</td>\n",
              "      <td>False</td>\n",
              "      <td>False</td>\n",
              "      <td>False</td>\n",
              "      <td>False</td>\n",
              "      <td>False</td>\n",
              "    </tr>\n",
              "    <tr>\n",
              "      <th>9821</th>\n",
              "      <td>Fallout: Cascadia</td>\n",
              "      <td>https://www.imdb.com/title/tt9203196/?ref_=adv...</td>\n",
              "      <td>2019.0</td>\n",
              "      <td>NaN</td>\n",
              "      <td>NaN</td>\n",
              "      <td>NaN</td>\n",
              "      <td>A full-size mod for Fallout 4 set in a post-nu...</td>\n",
              "      <td>True</td>\n",
              "      <td>True</td>\n",
              "      <td>False</td>\n",
              "      <td>False</td>\n",
              "      <td>False</td>\n",
              "      <td>False</td>\n",
              "      <td>False</td>\n",
              "      <td>True</td>\n",
              "      <td>False</td>\n",
              "    </tr>\n",
              "    <tr>\n",
              "      <th>10013</th>\n",
              "      <td>Fallout 4</td>\n",
              "      <td>https://www.imdb.com/title/tt4741306/?ref_=adv...</td>\n",
              "      <td>2015.0</td>\n",
              "      <td>M</td>\n",
              "      <td>8.6</td>\n",
              "      <td>12791.0</td>\n",
              "      <td>In the post-apocalyptic Boston, Massachusetts ...</td>\n",
              "      <td>True</td>\n",
              "      <td>True</td>\n",
              "      <td>False</td>\n",
              "      <td>False</td>\n",
              "      <td>False</td>\n",
              "      <td>False</td>\n",
              "      <td>False</td>\n",
              "      <td>True</td>\n",
              "      <td>False</td>\n",
              "    </tr>\n",
              "    <tr>\n",
              "      <th>10027</th>\n",
              "      <td>Fallout 3</td>\n",
              "      <td>https://www.imdb.com/title/tt1073664/?ref_=adv...</td>\n",
              "      <td>2008.0</td>\n",
              "      <td>M</td>\n",
              "      <td>9.1</td>\n",
              "      <td>18905.0</td>\n",
              "      <td>Centuries following nuclear war, a teen leaves...</td>\n",
              "      <td>True</td>\n",
              "      <td>True</td>\n",
              "      <td>False</td>\n",
              "      <td>False</td>\n",
              "      <td>False</td>\n",
              "      <td>False</td>\n",
              "      <td>False</td>\n",
              "      <td>True</td>\n",
              "      <td>False</td>\n",
              "    </tr>\n",
              "    <tr>\n",
              "      <th>10716</th>\n",
              "      <td>Fallout 4: London</td>\n",
              "      <td>https://www.imdb.com/title/tt17074640/?ref_=ad...</td>\n",
              "      <td>2023.0</td>\n",
              "      <td>NaN</td>\n",
              "      <td>NaN</td>\n",
              "      <td>NaN</td>\n",
              "      <td>Add a Plot</td>\n",
              "      <td>False</td>\n",
              "      <td>True</td>\n",
              "      <td>False</td>\n",
              "      <td>False</td>\n",
              "      <td>False</td>\n",
              "      <td>False</td>\n",
              "      <td>False</td>\n",
              "      <td>False</td>\n",
              "      <td>False</td>\n",
              "    </tr>\n",
              "    <tr>\n",
              "      <th>12535</th>\n",
              "      <td>Fallout 4: Wasteland Workshop</td>\n",
              "      <td>https://www.imdb.com/title/tt15378788/?ref_=ad...</td>\n",
              "      <td>2016.0</td>\n",
              "      <td>M</td>\n",
              "      <td>4.2</td>\n",
              "      <td>9.0</td>\n",
              "      <td>Add a Plot</td>\n",
              "      <td>False</td>\n",
              "      <td>True</td>\n",
              "      <td>False</td>\n",
              "      <td>False</td>\n",
              "      <td>False</td>\n",
              "      <td>False</td>\n",
              "      <td>False</td>\n",
              "      <td>True</td>\n",
              "      <td>False</td>\n",
              "    </tr>\n",
              "    <tr>\n",
              "      <th>13598</th>\n",
              "      <td>Fallout 4: Vault-Tec Workshop</td>\n",
              "      <td>https://www.imdb.com/title/tt15231138/?ref_=ad...</td>\n",
              "      <td>2016.0</td>\n",
              "      <td>M</td>\n",
              "      <td>5.5</td>\n",
              "      <td>11.0</td>\n",
              "      <td>Add a Plot</td>\n",
              "      <td>False</td>\n",
              "      <td>True</td>\n",
              "      <td>False</td>\n",
              "      <td>False</td>\n",
              "      <td>False</td>\n",
              "      <td>False</td>\n",
              "      <td>False</td>\n",
              "      <td>True</td>\n",
              "      <td>False</td>\n",
              "    </tr>\n",
              "    <tr>\n",
              "      <th>14919</th>\n",
              "      <td>Fallout 4: Contraptions Workshop</td>\n",
              "      <td>https://www.imdb.com/title/tt15378806/?ref_=ad...</td>\n",
              "      <td>2016.0</td>\n",
              "      <td>M</td>\n",
              "      <td>5.2</td>\n",
              "      <td>10.0</td>\n",
              "      <td>Add a Plot</td>\n",
              "      <td>False</td>\n",
              "      <td>True</td>\n",
              "      <td>False</td>\n",
              "      <td>False</td>\n",
              "      <td>False</td>\n",
              "      <td>False</td>\n",
              "      <td>False</td>\n",
              "      <td>True</td>\n",
              "      <td>False</td>\n",
              "    </tr>\n",
              "    <tr>\n",
              "      <th>19373</th>\n",
              "      <td>Fallout: A Post-Nuclear Role-Playing Game</td>\n",
              "      <td>https://www.imdb.com/title/tt0134648/?ref_=adv...</td>\n",
              "      <td>1997.0</td>\n",
              "      <td>M</td>\n",
              "      <td>9.2</td>\n",
              "      <td>3773.0</td>\n",
              "      <td>After being sent by the overseer of his vault ...</td>\n",
              "      <td>True</td>\n",
              "      <td>True</td>\n",
              "      <td>False</td>\n",
              "      <td>False</td>\n",
              "      <td>False</td>\n",
              "      <td>False</td>\n",
              "      <td>False</td>\n",
              "      <td>True</td>\n",
              "      <td>False</td>\n",
              "    </tr>\n",
              "    <tr>\n",
              "      <th>19425</th>\n",
              "      <td>Fallout New Vegas: Brave New World</td>\n",
              "      <td>https://www.imdb.com/title/tt12819644/?ref_=ad...</td>\n",
              "      <td>2020.0</td>\n",
              "      <td>NaN</td>\n",
              "      <td>5.6</td>\n",
              "      <td>5.0</td>\n",
              "      <td>Brave New World is a project that gathers the ...</td>\n",
              "      <td>False</td>\n",
              "      <td>False</td>\n",
              "      <td>False</td>\n",
              "      <td>False</td>\n",
              "      <td>False</td>\n",
              "      <td>False</td>\n",
              "      <td>False</td>\n",
              "      <td>True</td>\n",
              "      <td>False</td>\n",
              "    </tr>\n",
              "    <tr>\n",
              "      <th>19513</th>\n",
              "      <td>Fallout Shelter</td>\n",
              "      <td>https://www.imdb.com/title/tt5430868/?ref_=adv...</td>\n",
              "      <td>2015.0</td>\n",
              "      <td>NaN</td>\n",
              "      <td>6.2</td>\n",
              "      <td>630.0</td>\n",
              "      <td>As Overseer, you must expand and maintain your...</td>\n",
              "      <td>False</td>\n",
              "      <td>False</td>\n",
              "      <td>False</td>\n",
              "      <td>False</td>\n",
              "      <td>False</td>\n",
              "      <td>False</td>\n",
              "      <td>False</td>\n",
              "      <td>True</td>\n",
              "      <td>False</td>\n",
              "    </tr>\n",
              "  </tbody>\n",
              "</table>\n",
              "</div>"
            ],
            "text/plain": [
              "                                              name  \\\n",
              "29                              Fallout: New Vegas   \n",
              "37                                       Fallout 4   \n",
              "115                                      Fallout 3   \n",
              "207                                     Fallout 76   \n",
              "340      Fallout: A Post-Nuclear Role-Playing Game   \n",
              "437    Fallout 2: A Post-Nuclear Role-Playing Game   \n",
              "1062                         Fallout: The Frontier   \n",
              "1233         Fallout Tactics: Brotherhood of Steel   \n",
              "1872            Fallout: New Vegas - Honest Hearts   \n",
              "1964                          Fallout 4: New Vegas   \n",
              "2003                 Fallout: Brotherhood of Steel   \n",
              "2117          Fallout: New Vegas - Old World Blues   \n",
              "2170                     Fallout Legacy Collection   \n",
              "2362             Fallout: New Vegas - Simply Uncut   \n",
              "2472                         Fallout 4: Far Harbor   \n",
              "2549               Fallout: New Vegas - Dead Money   \n",
              "2681                                Fallout: Miami   \n",
              "2718                 Fallout 4: Fusion City Rising   \n",
              "2861                       Fallout: New California   \n",
              "3047            Fallout: New Vegas - Lonesome Road   \n",
              "3086                     Fallout 4: Heather Casdin   \n",
              "3127                      Fallout 3: Point Lookout   \n",
              "3141               Fallout 3: Operation: Anchorage   \n",
              "3165                         Fallout 4: Nuka-World   \n",
              "3206                       Fallout 3: Broken Steel   \n",
              "3440                       Fallout 76: Steel Reign   \n",
              "3554                           Fallout 3: The Pitt   \n",
              "3615                    Fallout 3: Mothership Zeta   \n",
              "3719                        Fallout 76: Steel Dawn   \n",
              "3731            Fallout 76: Expeditions - The Pitt   \n",
              "4012                  Fallout 4: Capital Wasteland   \n",
              "4190                      Fallout 76: Wastelanders   \n",
              "5306                         Fallout 4: Automatron   \n",
              "8315                     Fallout 4 - Point Lookout   \n",
              "9821                             Fallout: Cascadia   \n",
              "10013                                    Fallout 4   \n",
              "10027                                    Fallout 3   \n",
              "10716                            Fallout 4: London   \n",
              "12535                Fallout 4: Wasteland Workshop   \n",
              "13598                Fallout 4: Vault-Tec Workshop   \n",
              "14919             Fallout 4: Contraptions Workshop   \n",
              "19373    Fallout: A Post-Nuclear Role-Playing Game   \n",
              "19425           Fallout New Vegas: Brave New World   \n",
              "19513                              Fallout Shelter   \n",
              "\n",
              "                                                     url    year certificate  \\\n",
              "29     https://www.imdb.com/title/tt1706601/?ref_=adv...  2010.0           M   \n",
              "37     https://www.imdb.com/title/tt4741306/?ref_=adv...  2015.0           M   \n",
              "115    https://www.imdb.com/title/tt1073664/?ref_=adv...  2008.0           M   \n",
              "207    https://www.imdb.com/title/tt8495446/?ref_=adv...  2018.0           M   \n",
              "340    https://www.imdb.com/title/tt0134648/?ref_=adv...  1997.0           M   \n",
              "437    https://www.imdb.com/title/tt0183066/?ref_=adv...  1998.0           M   \n",
              "1062   https://www.imdb.com/title/tt7471838/?ref_=adv...  2021.0         NaN   \n",
              "1233   https://www.imdb.com/title/tt0246614/?ref_=adv...  2001.0           M   \n",
              "1872   https://www.imdb.com/title/tt13259848/?ref_=ad...  2011.0           M   \n",
              "1964   https://www.imdb.com/title/tt9054854/?ref_=adv...  2019.0         NaN   \n",
              "2003   https://www.imdb.com/title/tt0426456/?ref_=adv...  2004.0         NaN   \n",
              "2117   https://www.imdb.com/title/tt13627658/?ref_=ad...  2011.0         NaN   \n",
              "2170   https://www.imdb.com/title/tt13409472/?ref_=ad...  2019.0         NaN   \n",
              "2362   https://www.imdb.com/title/tt15448278/?ref_=ad...  2019.0         NaN   \n",
              "2472   https://www.imdb.com/title/tt13877574/?ref_=ad...  2016.0         NaN   \n",
              "2549   https://www.imdb.com/title/tt13129016/?ref_=ad...  2010.0         NaN   \n",
              "2681   https://www.imdb.com/title/tt9243702/?ref_=adv...  2019.0         NaN   \n",
              "2718   https://www.imdb.com/title/tt6108962/?ref_=adv...  2016.0         NaN   \n",
              "2861   https://www.imdb.com/title/tt9162260/?ref_=adv...  2018.0         NaN   \n",
              "3047   https://www.imdb.com/title/tt13627682/?ref_=ad...  2011.0         NaN   \n",
              "3086   https://www.imdb.com/title/tt16604526/?ref_=ad...  2017.0         NaN   \n",
              "3127   https://www.imdb.com/title/tt12702412/?ref_=ad...  2009.0         NaN   \n",
              "3141   https://www.imdb.com/title/tt12702392/?ref_=ad...  2009.0         NaN   \n",
              "3165   https://www.imdb.com/title/tt15378570/?ref_=ad...  2016.0           M   \n",
              "3206   https://www.imdb.com/title/tt1925430/?ref_=adv...  2009.0         NaN   \n",
              "3440   https://www.imdb.com/title/tt14987880/?ref_=ad...  2021.0         NaN   \n",
              "3554   https://www.imdb.com/title/tt12702402/?ref_=ad...  2009.0         NaN   \n",
              "3615   https://www.imdb.com/title/tt12702432/?ref_=ad...  2009.0         NaN   \n",
              "3719   https://www.imdb.com/title/tt13534124/?ref_=ad...  2020.0         NaN   \n",
              "3731   https://www.imdb.com/title/tt21040946/?ref_=ad...  2022.0         NaN   \n",
              "4012   https://www.imdb.com/title/tt9543158/?ref_=adv...     NaN         NaN   \n",
              "4190   https://www.imdb.com/title/tt13871682/?ref_=ad...  2020.0         NaN   \n",
              "5306   https://www.imdb.com/title/tt15231134/?ref_=ad...  2016.0           M   \n",
              "8315   https://www.imdb.com/title/tt20242232/?ref_=ad...  2022.0         NaN   \n",
              "9821   https://www.imdb.com/title/tt9203196/?ref_=adv...  2019.0         NaN   \n",
              "10013  https://www.imdb.com/title/tt4741306/?ref_=adv...  2015.0           M   \n",
              "10027  https://www.imdb.com/title/tt1073664/?ref_=adv...  2008.0           M   \n",
              "10716  https://www.imdb.com/title/tt17074640/?ref_=ad...  2023.0         NaN   \n",
              "12535  https://www.imdb.com/title/tt15378788/?ref_=ad...  2016.0           M   \n",
              "13598  https://www.imdb.com/title/tt15231138/?ref_=ad...  2016.0           M   \n",
              "14919  https://www.imdb.com/title/tt15378806/?ref_=ad...  2016.0           M   \n",
              "19373  https://www.imdb.com/title/tt0134648/?ref_=adv...  1997.0           M   \n",
              "19425  https://www.imdb.com/title/tt12819644/?ref_=ad...  2020.0         NaN   \n",
              "19513  https://www.imdb.com/title/tt5430868/?ref_=adv...  2015.0         NaN   \n",
              "\n",
              "       rating    votes                                       plot_summary  \\\n",
              "29        8.9  12296.0  After surviving a bullet to the head, Courier ...   \n",
              "37        8.6  12790.0  In the post-apocalyptic Boston, Massachusetts ...   \n",
              "115       9.1  18904.0  Centuries following nuclear war, a teen leaves...   \n",
              "207       4.0   1756.0  Twenty-five years after the bombs fall, you an...   \n",
              "340       9.2   3772.0  After being sent by the overseer of his vault ...   \n",
              "437       9.4   3861.0  In a post-nuclear future, the descendant of an...   \n",
              "1062      4.1     24.0  The ongoing conflict between the Legion and th...   \n",
              "1233      7.4    784.0  The Brotherhood of Steel, a faction of technol...   \n",
              "1872      7.5     74.0  The story leads the protagonist to the Canyon ...   \n",
              "1964      6.2     15.0  An unofficial fan-made recreation of Fallout: ...   \n",
              "2003      5.5    111.0  The adventures of an initiate in the Brotherho...   \n",
              "2117      8.3     77.0  After being transported to the Big MT research...   \n",
              "2170      5.8      6.0                                         Add a Plot   \n",
              "2362      NaN      NaN  Many NPCs, areas, items, quests, and concepts ...   \n",
              "2472      8.0     69.0  A new case from Valentine's Detective Agency l...   \n",
              "2549      7.3     72.0  You, the courier, were drawn to an abandoned B...   \n",
              "2681      NaN      NaN  Journey to the post-nuclear vacation wasteland...   \n",
              "2718      7.9     12.0  Join Peter on a wild adventure to stop religio...   \n",
              "2861      6.4      7.0  An all new story around an adopted resident of...   \n",
              "3047      7.7     60.0                                         Add a Plot   \n",
              "3086      NaN      NaN  A unique companion mod for Fallout 4 which add...   \n",
              "3127      8.0     70.0  Point Lookout is the fourth downloadable expan...   \n",
              "3141      6.7     73.0  This expansion adds four to five hours of war-...   \n",
              "3165      6.5     45.0  Take a trip to Nuka-World, a vast amusement pa...   \n",
              "3206      7.7    334.0  Expansion pack for Fallout 3 (2008). After Pro...   \n",
              "3440      5.0     11.0                                         Add a Plot   \n",
              "3554      7.6     70.0  The fifth and final downloadable expansion for...   \n",
              "3615      6.4     72.0  The fifth and final downloadable expansion for...   \n",
              "3719      6.4     28.0                                         Add a Plot   \n",
              "3731      NaN      NaN                                         Add a Plot   \n",
              "4012      NaN      NaN                                         Add a Plot   \n",
              "4190      5.8     32.0                                         Add a Plot   \n",
              "5306      6.4     30.0  The mysterious Mechanist has unleashed a horde...   \n",
              "8315      NaN      NaN                                         Add a Plot   \n",
              "9821      NaN      NaN  A full-size mod for Fallout 4 set in a post-nu...   \n",
              "10013     8.6  12791.0  In the post-apocalyptic Boston, Massachusetts ...   \n",
              "10027     9.1  18905.0  Centuries following nuclear war, a teen leaves...   \n",
              "10716     NaN      NaN                                         Add a Plot   \n",
              "12535     4.2      9.0                                         Add a Plot   \n",
              "13598     5.5     11.0                                         Add a Plot   \n",
              "14919     5.2     10.0                                         Add a Plot   \n",
              "19373     9.2   3773.0  After being sent by the overseer of his vault ...   \n",
              "19425     5.6      5.0  Brave New World is a project that gathers the ...   \n",
              "19513     6.2    630.0  As Overseer, you must expand and maintain your...   \n",
              "\n",
              "       Action  Adventure  Comedy  Crime  Family  Fantasy  Mystery  Sci_Fi  \\\n",
              "29       True       True   False  False   False    False    False    True   \n",
              "37       True       True   False  False   False    False    False    True   \n",
              "115      True       True   False  False   False    False    False    True   \n",
              "207      True       True   False  False   False    False    False    True   \n",
              "340      True       True   False  False   False    False    False    True   \n",
              "437      True       True   False  False   False    False    False    True   \n",
              "1062     True       True   False  False   False    False    False    True   \n",
              "1233     True       True   False  False   False    False    False    True   \n",
              "1872     True       True   False  False   False    False    False    True   \n",
              "1964     True       True   False  False   False    False    False    True   \n",
              "2003     True       True   False  False   False    False    False    True   \n",
              "2117     True       True   False  False   False    False    False    True   \n",
              "2170     True      False   False  False   False    False    False   False   \n",
              "2362     True      False   False  False   False    False    False   False   \n",
              "2472     True       True   False  False   False    False    False    True   \n",
              "2549     True       True   False  False   False    False    False   False   \n",
              "2681     True       True   False  False   False    False    False    True   \n",
              "2718     True       True   False  False   False    False    False   False   \n",
              "2861     True       True   False  False   False    False    False    True   \n",
              "3047     True       True   False  False   False    False    False    True   \n",
              "3086     True       True   False  False   False    False    False   False   \n",
              "3127     True       True   False  False   False    False    False   False   \n",
              "3141     True       True   False  False   False    False    False    True   \n",
              "3165     True       True   False  False   False    False    False    True   \n",
              "3206     True       True   False  False   False    False    False    True   \n",
              "3440     True       True   False  False   False    False    False    True   \n",
              "3554     True       True   False  False   False    False    False    True   \n",
              "3615     True       True   False  False   False    False    False    True   \n",
              "3719     True       True   False  False   False    False    False    True   \n",
              "3731     True      False   False  False   False    False    False   False   \n",
              "4012     True       True   False  False   False    False    False    True   \n",
              "4190     True       True   False  False   False    False    False    True   \n",
              "5306     True       True   False  False   False    False    False    True   \n",
              "8315     True      False   False  False   False    False    False   False   \n",
              "9821     True       True   False  False   False    False    False    True   \n",
              "10013    True       True   False  False   False    False    False    True   \n",
              "10027    True       True   False  False   False    False    False    True   \n",
              "10716   False       True   False  False   False    False    False   False   \n",
              "12535   False       True   False  False   False    False    False    True   \n",
              "13598   False       True   False  False   False    False    False    True   \n",
              "14919   False       True   False  False   False    False    False    True   \n",
              "19373    True       True   False  False   False    False    False    True   \n",
              "19425   False      False   False  False   False    False    False    True   \n",
              "19513   False      False   False  False   False    False    False    True   \n",
              "\n",
              "       Thriller  \n",
              "29        False  \n",
              "37        False  \n",
              "115       False  \n",
              "207       False  \n",
              "340       False  \n",
              "437       False  \n",
              "1062      False  \n",
              "1233      False  \n",
              "1872      False  \n",
              "1964      False  \n",
              "2003      False  \n",
              "2117      False  \n",
              "2170      False  \n",
              "2362      False  \n",
              "2472      False  \n",
              "2549      False  \n",
              "2681      False  \n",
              "2718      False  \n",
              "2861      False  \n",
              "3047      False  \n",
              "3086      False  \n",
              "3127      False  \n",
              "3141      False  \n",
              "3165      False  \n",
              "3206      False  \n",
              "3440      False  \n",
              "3554      False  \n",
              "3615      False  \n",
              "3719      False  \n",
              "3731      False  \n",
              "4012      False  \n",
              "4190      False  \n",
              "5306      False  \n",
              "8315      False  \n",
              "9821      False  \n",
              "10013     False  \n",
              "10027     False  \n",
              "10716     False  \n",
              "12535     False  \n",
              "13598     False  \n",
              "14919     False  \n",
              "19373     False  \n",
              "19425     False  \n",
              "19513     False  "
            ]
          },
          "execution_count": 566,
          "metadata": {},
          "output_type": "execute_result"
        }
      ],
      "source": [
        "df[df.name.str.contains(\"Fallout\")]"
      ]
    },
    {
      "cell_type": "markdown",
      "metadata": {},
      "source": [
        "### 4. What is the most common certificate for Sci-Fi games? "
      ]
    },
    {
      "cell_type": "code",
      "execution_count": 567,
      "metadata": {},
      "outputs": [
        {
          "data": {
            "text/plain": [
              "T            424\n",
              "M            339\n",
              "E            185\n",
              "E10+          94\n",
              "Unrated       46\n",
              "K-A           41\n",
              "Not Rated     29\n",
              "GA             5\n",
              "AO             5\n",
              "MA-13          4\n",
              "12             3\n",
              "EC             3\n",
              "MA-17          1\n",
              "PG-13          1\n",
              "G              1\n",
              "Approved       1\n",
              "Name: certificate, dtype: int64"
            ]
          },
          "execution_count": 567,
          "metadata": {},
          "output_type": "execute_result"
        }
      ],
      "source": [
        "df[df[\"Sci_Fi\"]].certificate.value_counts()"
      ]
    },
    {
      "cell_type": "markdown",
      "metadata": {},
      "source": [
        "### 5. What percent of Thiller games have M or AO certificate?"
      ]
    },
    {
      "cell_type": "code",
      "execution_count": 568,
      "metadata": {},
      "outputs": [
        {
          "data": {
            "text/plain": [
              "32.122370936902485"
            ]
          },
          "execution_count": 568,
          "metadata": {},
          "output_type": "execute_result"
        }
      ],
      "source": [
        "m_ao = df[(df[\"certificate\"]== 'M') | (df[\"certificate\"]== 'AO')].Thriller.sum()\n",
        "all_items = df[df.Thriller].Thriller.sum()\n",
        "divide = m_ao / all_items\n",
        "percent = divide * 100\n",
        "percent"
      ]
    },
    {
      "cell_type": "markdown",
      "metadata": {},
      "source": [
        "- total number of Thriller games in the dataset"
      ]
    },
    {
      "cell_type": "code",
      "execution_count": 569,
      "metadata": {},
      "outputs": [
        {
          "data": {
            "text/plain": [
              "523"
            ]
          },
          "execution_count": 569,
          "metadata": {},
          "output_type": "execute_result"
        }
      ],
      "source": [
        "df[df.Thriller].Thriller.sum()"
      ]
    },
    {
      "cell_type": "markdown",
      "metadata": {},
      "source": [
        "- total number of Thriller games with M or AO cert"
      ]
    },
    {
      "cell_type": "code",
      "execution_count": 570,
      "metadata": {},
      "outputs": [
        {
          "data": {
            "text/plain": [
              "168"
            ]
          },
          "execution_count": 570,
          "metadata": {},
          "output_type": "execute_result"
        }
      ],
      "source": [
        "df[(df[\"certificate\"]== 'M') | (df[\"certificate\"]== 'AO')].Thriller.sum()"
      ]
    },
    {
      "cell_type": "markdown",
      "metadata": {},
      "source": [
        "### 6. What is the mean and median rating for Family games? for Action games?"
      ]
    },
    {
      "cell_type": "code",
      "execution_count": 603,
      "metadata": {},
      "outputs": [
        {
          "data": {
            "text/html": [
              "<div>\n",
              "<style scoped>\n",
              "    .dataframe tbody tr th:only-of-type {\n",
              "        vertical-align: middle;\n",
              "    }\n",
              "\n",
              "    .dataframe tbody tr th {\n",
              "        vertical-align: top;\n",
              "    }\n",
              "\n",
              "    .dataframe thead th {\n",
              "        text-align: right;\n",
              "    }\n",
              "</style>\n",
              "<table border=\"1\" class=\"dataframe\">\n",
              "  <thead>\n",
              "    <tr style=\"text-align: right;\">\n",
              "      <th></th>\n",
              "      <th>mean</th>\n",
              "      <th>median</th>\n",
              "    </tr>\n",
              "    <tr>\n",
              "      <th>Action</th>\n",
              "      <th></th>\n",
              "      <th></th>\n",
              "    </tr>\n",
              "  </thead>\n",
              "  <tbody>\n",
              "    <tr>\n",
              "      <th>False</th>\n",
              "      <td>6.998812</td>\n",
              "      <td>7.2</td>\n",
              "    </tr>\n",
              "    <tr>\n",
              "      <th>True</th>\n",
              "      <td>7.068878</td>\n",
              "      <td>7.2</td>\n",
              "    </tr>\n",
              "  </tbody>\n",
              "</table>\n",
              "</div>"
            ],
            "text/plain": [
              "            mean  median\n",
              "Action                  \n",
              "False   6.998812     7.2\n",
              "True    7.068878     7.2"
            ]
          },
          "execution_count": 603,
          "metadata": {},
          "output_type": "execute_result"
        }
      ],
      "source": [
        "df.groupby(['Action']).rating.agg(['mean','median'])\n"
      ]
    },
    {
      "cell_type": "code",
      "execution_count": 572,
      "metadata": {},
      "outputs": [
        {
          "data": {
            "text/html": [
              "<div>\n",
              "<style scoped>\n",
              "    .dataframe tbody tr th:only-of-type {\n",
              "        vertical-align: middle;\n",
              "    }\n",
              "\n",
              "    .dataframe tbody tr th {\n",
              "        vertical-align: top;\n",
              "    }\n",
              "\n",
              "    .dataframe thead th {\n",
              "        text-align: right;\n",
              "    }\n",
              "</style>\n",
              "<table border=\"1\" class=\"dataframe\">\n",
              "  <thead>\n",
              "    <tr style=\"text-align: right;\">\n",
              "      <th></th>\n",
              "      <th>mean</th>\n",
              "      <th>median</th>\n",
              "    </tr>\n",
              "    <tr>\n",
              "      <th>Family</th>\n",
              "      <th></th>\n",
              "      <th></th>\n",
              "    </tr>\n",
              "  </thead>\n",
              "  <tbody>\n",
              "    <tr>\n",
              "      <th>False</th>\n",
              "      <td>7.104128</td>\n",
              "      <td>7.3</td>\n",
              "    </tr>\n",
              "    <tr>\n",
              "      <th>True</th>\n",
              "      <td>6.686450</td>\n",
              "      <td>6.9</td>\n",
              "    </tr>\n",
              "  </tbody>\n",
              "</table>\n",
              "</div>"
            ],
            "text/plain": [
              "            mean  median\n",
              "Family                  \n",
              "False   7.104128     7.3\n",
              "True    6.686450     6.9"
            ]
          },
          "execution_count": 572,
          "metadata": {},
          "output_type": "execute_result"
        }
      ],
      "source": [
        "df.groupby(['Family']).rating.agg(['mean','median'])"
      ]
    },
    {
      "cell_type": "markdown",
      "metadata": {},
      "source": [
        "### 7. Which game from 2018 got the most votes? "
      ]
    },
    {
      "cell_type": "code",
      "execution_count": 573,
      "metadata": {},
      "outputs": [
        {
          "data": {
            "text/html": [
              "<div>\n",
              "<style scoped>\n",
              "    .dataframe tbody tr th:only-of-type {\n",
              "        vertical-align: middle;\n",
              "    }\n",
              "\n",
              "    .dataframe tbody tr th {\n",
              "        vertical-align: top;\n",
              "    }\n",
              "\n",
              "    .dataframe thead th {\n",
              "        text-align: right;\n",
              "    }\n",
              "</style>\n",
              "<table border=\"1\" class=\"dataframe\">\n",
              "  <thead>\n",
              "    <tr style=\"text-align: right;\">\n",
              "      <th></th>\n",
              "      <th>name</th>\n",
              "      <th>year</th>\n",
              "      <th>votes</th>\n",
              "    </tr>\n",
              "  </thead>\n",
              "  <tbody>\n",
              "    <tr>\n",
              "      <th>15915</th>\n",
              "      <td>Red Dead Redemption II</td>\n",
              "      <td>2018.0</td>\n",
              "      <td>35709.0</td>\n",
              "    </tr>\n",
              "  </tbody>\n",
              "</table>\n",
              "</div>"
            ],
            "text/plain": [
              "                         name    year    votes\n",
              "15915  Red Dead Redemption II  2018.0  35709.0"
            ]
          },
          "execution_count": 573,
          "metadata": {},
          "output_type": "execute_result"
        }
      ],
      "source": [
        "game_votes = df[(df.year == 2018) ].sort_values(\"votes\", ascending=False)\n",
        "game_votes[[\"name\",\"year\", \"votes\"]].head(1)"
      ]
    },
    {
      "cell_type": "markdown",
      "metadata": {},
      "source": [
        "### 8. What is the average rating for each genre (Action, Adventure, Comedy, Crime, Family, Fantasy, Mystery, Sci-Fi, and Thriller)?"
      ]
    },
    {
      "cell_type": "code",
      "execution_count": 574,
      "metadata": {},
      "outputs": [
        {
          "data": {
            "text/plain": [
              "Action\n",
              "False    6.998812\n",
              "True     7.068878\n",
              "Name: rating, dtype: float64"
            ]
          },
          "execution_count": 574,
          "metadata": {},
          "output_type": "execute_result"
        }
      ],
      "source": [
        "df.groupby('Action').rating.mean()\n"
      ]
    },
    {
      "cell_type": "code",
      "execution_count": 575,
      "metadata": {},
      "outputs": [
        {
          "data": {
            "text/plain": [
              "Adventure\n",
              "False    6.788333\n",
              "True     7.249050\n",
              "Name: rating, dtype: float64"
            ]
          },
          "execution_count": 575,
          "metadata": {},
          "output_type": "execute_result"
        }
      ],
      "source": [
        "df.groupby('Adventure').rating.mean()"
      ]
    },
    {
      "cell_type": "code",
      "execution_count": 576,
      "metadata": {},
      "outputs": [
        {
          "data": {
            "text/plain": [
              "Comedy\n",
              "False    7.032130\n",
              "True     7.186753\n",
              "Name: rating, dtype: float64"
            ]
          },
          "execution_count": 576,
          "metadata": {},
          "output_type": "execute_result"
        }
      ],
      "source": [
        "df.groupby('Comedy').rating.mean()"
      ]
    },
    {
      "cell_type": "code",
      "execution_count": 577,
      "metadata": {},
      "outputs": [
        {
          "data": {
            "text/plain": [
              "Crime\n",
              "False    7.030993\n",
              "True     7.315111\n",
              "Name: rating, dtype: float64"
            ]
          },
          "execution_count": 577,
          "metadata": {},
          "output_type": "execute_result"
        }
      ],
      "source": [
        "df.groupby('Crime').rating.mean()"
      ]
    },
    {
      "cell_type": "code",
      "execution_count": 578,
      "metadata": {},
      "outputs": [
        {
          "data": {
            "text/plain": [
              "Family\n",
              "False    7.104128\n",
              "True     6.686450\n",
              "Name: rating, dtype: float64"
            ]
          },
          "execution_count": 578,
          "metadata": {},
          "output_type": "execute_result"
        }
      ],
      "source": [
        "df.groupby('Family').rating.mean()"
      ]
    },
    {
      "cell_type": "code",
      "execution_count": 579,
      "metadata": {},
      "outputs": [
        {
          "data": {
            "text/plain": [
              "Fantasy\n",
              "False    6.976189\n",
              "True     7.261732\n",
              "Name: rating, dtype: float64"
            ]
          },
          "execution_count": 579,
          "metadata": {},
          "output_type": "execute_result"
        }
      ],
      "source": [
        "df.groupby('Fantasy').rating.mean()"
      ]
    },
    {
      "cell_type": "code",
      "execution_count": 580,
      "metadata": {},
      "outputs": [
        {
          "data": {
            "text/plain": [
              "Mystery\n",
              "False    7.021001\n",
              "True     7.451329\n",
              "Name: rating, dtype: float64"
            ]
          },
          "execution_count": 580,
          "metadata": {},
          "output_type": "execute_result"
        }
      ],
      "source": [
        "df.groupby('Mystery').rating.mean()"
      ]
    },
    {
      "cell_type": "code",
      "execution_count": 581,
      "metadata": {},
      "outputs": [
        {
          "data": {
            "text/plain": [
              "Sci_Fi\n",
              "False    7.068984\n",
              "True     6.949254\n",
              "Name: rating, dtype: float64"
            ]
          },
          "execution_count": 581,
          "metadata": {},
          "output_type": "execute_result"
        }
      ],
      "source": [
        "df.groupby('Sci_Fi').rating.mean()"
      ]
    },
    {
      "cell_type": "code",
      "execution_count": 582,
      "metadata": {},
      "outputs": [
        {
          "data": {
            "text/plain": [
              "Thriller\n",
              "False    7.045595\n",
              "True     7.107143\n",
              "Name: rating, dtype: float64"
            ]
          },
          "execution_count": 582,
          "metadata": {},
          "output_type": "execute_result"
        }
      ],
      "source": [
        "df.groupby('Thriller').rating.mean()"
      ]
    },
    {
      "cell_type": "markdown",
      "metadata": {},
      "source": [
        "### 9. Which year's games received the most votes?"
      ]
    },
    {
      "cell_type": "markdown",
      "metadata": {},
      "source": [
        "- not 100% sure if this is what the question is asking"
      ]
    },
    {
      "cell_type": "code",
      "execution_count": 583,
      "metadata": {},
      "outputs": [
        {
          "data": {
            "text/plain": [
              "year             2013.0\n",
              "name     The Last of Us\n",
              "votes           60597.0\n",
              "Name: 19327, dtype: object"
            ]
          },
          "execution_count": 583,
          "metadata": {},
          "output_type": "execute_result"
        }
      ],
      "source": [
        "total = df.loc[ : ,[\"year\",\"name\", \"votes\"]].sort_values(\"votes\", ascending=False)\n",
        "total.iloc[0]\n"
      ]
    },
    {
      "cell_type": "markdown",
      "metadata": {},
      "source": [
        "### 10. What's the average number of votes for games that are not Action games?"
      ]
    },
    {
      "cell_type": "markdown",
      "metadata": {},
      "source": [
        "- all votes.mean = 630.599138"
      ]
    },
    {
      "cell_type": "code",
      "execution_count": null,
      "metadata": {},
      "outputs": [],
      "source": []
    },
    {
      "cell_type": "markdown",
      "metadata": {},
      "source": [
        "### 11. What game are platformers?"
      ]
    },
    {
      "cell_type": "code",
      "execution_count": null,
      "metadata": {},
      "outputs": [],
      "source": []
    },
    {
      "cell_type": "markdown",
      "metadata": {},
      "source": [
        " ### 12. What is the most common certificate of games with ratings greater than 8.0 and votes greater than 1000?\n",
        " \n"
      ]
    },
    {
      "cell_type": "code",
      "execution_count": 584,
      "metadata": {},
      "outputs": [
        {
          "data": {
            "text/plain": [
              "certificate\n",
              "M              363\n",
              "T              180\n",
              "E              102\n",
              "E10+            51\n",
              "K-A             11\n",
              "AO               1\n",
              "Not Rated        1\n",
              "Unrated          1\n",
              "dtype: int64"
            ]
          },
          "execution_count": 584,
          "metadata": {},
          "output_type": "execute_result"
        }
      ],
      "source": [
        "df.loc[(df['rating']> 8.0) & (df['votes']> 1000),[\"certificate\"]].value_counts()"
      ]
    },
    {
      "cell_type": "markdown",
      "metadata": {},
      "source": [
        "### 13. For games with ratings greater than the 75th percentile for ratings and a number of votes greater than the 75th percentile for votes, what is the most common genre?\n",
        " \n"
      ]
    },
    {
      "cell_type": "code",
      "execution_count": null,
      "metadata": {},
      "outputs": [],
      "source": []
    },
    {
      "cell_type": "markdown",
      "metadata": {},
      "source": [
        "### 14. What are the average ratings by year?\n"
      ]
    },
    {
      "cell_type": "code",
      "execution_count": 585,
      "metadata": {},
      "outputs": [
        {
          "data": {
            "text/plain": [
              "year\n",
              "1952.0    7.000000\n",
              "1962.0    6.800000\n",
              "1964.0         NaN\n",
              "1969.0    6.950000\n",
              "1970.0    4.300000\n",
              "            ...   \n",
              "2022.0    7.563063\n",
              "2023.0         NaN\n",
              "2024.0         NaN\n",
              "2025.0         NaN\n",
              "2027.0         NaN\n",
              "Name: rating, Length: 61, dtype: float64"
            ]
          },
          "execution_count": 585,
          "metadata": {},
          "output_type": "execute_result"
        }
      ],
      "source": [
        "df.groupby(by ='year').rating.mean()"
      ]
    },
    {
      "cell_type": "markdown",
      "metadata": {},
      "source": [
        "### 15. For each cerficate, what was the average rating and average number of votes?"
      ]
    },
    {
      "cell_type": "code",
      "execution_count": 586,
      "metadata": {},
      "outputs": [
        {
          "data": {
            "text/html": [
              "<div>\n",
              "<style scoped>\n",
              "    .dataframe tbody tr th:only-of-type {\n",
              "        vertical-align: middle;\n",
              "    }\n",
              "\n",
              "    .dataframe tbody tr th {\n",
              "        vertical-align: top;\n",
              "    }\n",
              "\n",
              "    .dataframe thead tr th {\n",
              "        text-align: left;\n",
              "    }\n",
              "\n",
              "    .dataframe thead tr:last-of-type th {\n",
              "        text-align: right;\n",
              "    }\n",
              "</style>\n",
              "<table border=\"1\" class=\"dataframe\">\n",
              "  <thead>\n",
              "    <tr>\n",
              "      <th></th>\n",
              "      <th>rating</th>\n",
              "      <th>votes</th>\n",
              "    </tr>\n",
              "    <tr>\n",
              "      <th></th>\n",
              "      <th>mean</th>\n",
              "      <th>mean</th>\n",
              "    </tr>\n",
              "    <tr>\n",
              "      <th>certificate</th>\n",
              "      <th></th>\n",
              "      <th></th>\n",
              "    </tr>\n",
              "  </thead>\n",
              "  <tbody>\n",
              "    <tr>\n",
              "      <th>12</th>\n",
              "      <td>7.350000</td>\n",
              "      <td>31.375000</td>\n",
              "    </tr>\n",
              "    <tr>\n",
              "      <th>AO</th>\n",
              "      <td>6.493333</td>\n",
              "      <td>246.333333</td>\n",
              "    </tr>\n",
              "    <tr>\n",
              "      <th>Approved</th>\n",
              "      <td>6.900000</td>\n",
              "      <td>52.333333</td>\n",
              "    </tr>\n",
              "    <tr>\n",
              "      <th>CE</th>\n",
              "      <td>5.520000</td>\n",
              "      <td>12.600000</td>\n",
              "    </tr>\n",
              "    <tr>\n",
              "      <th>E</th>\n",
              "      <td>7.085637</td>\n",
              "      <td>332.329063</td>\n",
              "    </tr>\n",
              "    <tr>\n",
              "      <th>E10+</th>\n",
              "      <td>7.181231</td>\n",
              "      <td>520.265766</td>\n",
              "    </tr>\n",
              "    <tr>\n",
              "      <th>EC</th>\n",
              "      <td>6.142857</td>\n",
              "      <td>18.857143</td>\n",
              "    </tr>\n",
              "    <tr>\n",
              "      <th>G</th>\n",
              "      <td>5.600000</td>\n",
              "      <td>11.500000</td>\n",
              "    </tr>\n",
              "    <tr>\n",
              "      <th>GA</th>\n",
              "      <td>6.531579</td>\n",
              "      <td>165.105263</td>\n",
              "    </tr>\n",
              "    <tr>\n",
              "      <th>K-A</th>\n",
              "      <td>6.895238</td>\n",
              "      <td>322.502646</td>\n",
              "    </tr>\n",
              "    <tr>\n",
              "      <th>M</th>\n",
              "      <td>7.515584</td>\n",
              "      <td>2498.627557</td>\n",
              "    </tr>\n",
              "    <tr>\n",
              "      <th>MA-13</th>\n",
              "      <td>7.080000</td>\n",
              "      <td>83.200000</td>\n",
              "    </tr>\n",
              "    <tr>\n",
              "      <th>MA-17</th>\n",
              "      <td>6.000000</td>\n",
              "      <td>165.666667</td>\n",
              "    </tr>\n",
              "    <tr>\n",
              "      <th>Not Rated</th>\n",
              "      <td>6.703650</td>\n",
              "      <td>110.759124</td>\n",
              "    </tr>\n",
              "    <tr>\n",
              "      <th>PG</th>\n",
              "      <td>5.933333</td>\n",
              "      <td>106.333333</td>\n",
              "    </tr>\n",
              "    <tr>\n",
              "      <th>PG-13</th>\n",
              "      <td>6.628571</td>\n",
              "      <td>119.000000</td>\n",
              "    </tr>\n",
              "    <tr>\n",
              "      <th>Passed</th>\n",
              "      <td>4.700000</td>\n",
              "      <td>19.000000</td>\n",
              "    </tr>\n",
              "    <tr>\n",
              "      <th>T</th>\n",
              "      <td>7.295178</td>\n",
              "      <td>829.020862</td>\n",
              "    </tr>\n",
              "    <tr>\n",
              "      <th>TV-14</th>\n",
              "      <td>7.000000</td>\n",
              "      <td>127.000000</td>\n",
              "    </tr>\n",
              "    <tr>\n",
              "      <th>TV-MA</th>\n",
              "      <td>7.000000</td>\n",
              "      <td>8.000000</td>\n",
              "    </tr>\n",
              "    <tr>\n",
              "      <th>Unrated</th>\n",
              "      <td>6.478222</td>\n",
              "      <td>135.973333</td>\n",
              "    </tr>\n",
              "  </tbody>\n",
              "</table>\n",
              "</div>"
            ],
            "text/plain": [
              "               rating        votes\n",
              "                 mean         mean\n",
              "certificate                       \n",
              "12           7.350000    31.375000\n",
              "AO           6.493333   246.333333\n",
              "Approved     6.900000    52.333333\n",
              "CE           5.520000    12.600000\n",
              "E            7.085637   332.329063\n",
              "E10+         7.181231   520.265766\n",
              "EC           6.142857    18.857143\n",
              "G            5.600000    11.500000\n",
              "GA           6.531579   165.105263\n",
              "K-A          6.895238   322.502646\n",
              "M            7.515584  2498.627557\n",
              "MA-13        7.080000    83.200000\n",
              "MA-17        6.000000   165.666667\n",
              "Not Rated    6.703650   110.759124\n",
              "PG           5.933333   106.333333\n",
              "PG-13        6.628571   119.000000\n",
              "Passed       4.700000    19.000000\n",
              "T            7.295178   829.020862\n",
              "TV-14        7.000000   127.000000\n",
              "TV-MA        7.000000     8.000000\n",
              "Unrated      6.478222   135.973333"
            ]
          },
          "execution_count": 586,
          "metadata": {},
          "output_type": "execute_result"
        }
      ],
      "source": [
        "df.groupby(['certificate']).agg({\n",
        "    'rating': ['mean'],\n",
        "'votes': 'mean'\n",
        "})\n"
      ]
    }
  ],
  "metadata": {
    "colab": {
      "authorship_tag": "ABX9TyPG+ssWMxKywRQDkeiR9E1U",
      "include_colab_link": true,
      "mount_file_id": "1V16IS1TA0CmRy78Zy03QMP9hHtjmYEcW",
      "name": "EDA_10Steps.ipynb",
      "provenance": []
    },
    "kernelspec": {
      "display_name": "Python 3.9.12 ('base')",
      "language": "python",
      "name": "python3"
    },
    "language_info": {
      "codemirror_mode": {
        "name": "ipython",
        "version": 3
      },
      "file_extension": ".py",
      "mimetype": "text/x-python",
      "name": "python",
      "nbconvert_exporter": "python",
      "pygments_lexer": "ipython3",
      "version": "3.9.12"
    },
    "vscode": {
      "interpreter": {
        "hash": "4555e744365ba023ab33c3ee7661a748735771c7fe0ec10fd20afc0645f4d986"
      }
    }
  },
  "nbformat": 4,
  "nbformat_minor": 0
}
