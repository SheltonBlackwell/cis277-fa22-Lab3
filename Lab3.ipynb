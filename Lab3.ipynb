{
  "cells": [
    {
      "cell_type": "markdown",
      "metadata": {},
      "source": [
        "# Lab 3 - Video Game Reviews"
      ]
    },
    {
      "cell_type": "code",
      "execution_count": 265,
      "metadata": {
        "id": "gIWe8vk2fPX7"
      },
      "outputs": [],
      "source": [
        "import pandas as pd"
      ]
    },
    {
      "cell_type": "markdown",
      "metadata": {
        "id": "4N0ty0ecrWcn"
      },
      "source": [
        "## Import Data"
      ]
    },
    {
      "cell_type": "code",
      "execution_count": 266,
      "metadata": {
        "id": "qY7nb0rAgWrr"
      },
      "outputs": [],
      "source": [
        "df = pd.read_csv('imdb-videogames.csv')"
      ]
    },
    {
      "cell_type": "code",
      "execution_count": 267,
      "metadata": {
        "colab": {
          "base_uri": "https://localhost:8080/",
          "height": 359
        },
        "id": "eIkZ2SBehFrY",
        "outputId": "8952e428-b938-4933-b581-9be7ddf2cdea"
      },
      "outputs": [
        {
          "data": {
            "text/html": [
              "<div>\n",
              "<style scoped>\n",
              "    .dataframe tbody tr th:only-of-type {\n",
              "        vertical-align: middle;\n",
              "    }\n",
              "\n",
              "    .dataframe tbody tr th {\n",
              "        vertical-align: top;\n",
              "    }\n",
              "\n",
              "    .dataframe thead th {\n",
              "        text-align: right;\n",
              "    }\n",
              "</style>\n",
              "<table border=\"1\" class=\"dataframe\">\n",
              "  <thead>\n",
              "    <tr style=\"text-align: right;\">\n",
              "      <th></th>\n",
              "      <th>Unnamed: 0</th>\n",
              "      <th>name</th>\n",
              "      <th>url</th>\n",
              "      <th>year</th>\n",
              "      <th>certificate</th>\n",
              "      <th>rating</th>\n",
              "      <th>votes</th>\n",
              "      <th>plot summary</th>\n",
              "      <th>Action</th>\n",
              "      <th>Adventure</th>\n",
              "      <th>Comedy</th>\n",
              "      <th>Crime</th>\n",
              "      <th>Family</th>\n",
              "      <th>Fantasy</th>\n",
              "      <th>Mystery</th>\n",
              "      <th>Sci-Fi</th>\n",
              "      <th>Thriller</th>\n",
              "    </tr>\n",
              "  </thead>\n",
              "  <tbody>\n",
              "    <tr>\n",
              "      <th>0</th>\n",
              "      <td>0</td>\n",
              "      <td>Spider-Man</td>\n",
              "      <td>https://www.imdb.com/title/tt5807780/?ref_=adv...</td>\n",
              "      <td>2018.0</td>\n",
              "      <td>T</td>\n",
              "      <td>9.2</td>\n",
              "      <td>20,759</td>\n",
              "      <td>When a new villain threatens New York City, Pe...</td>\n",
              "      <td>True</td>\n",
              "      <td>True</td>\n",
              "      <td>False</td>\n",
              "      <td>False</td>\n",
              "      <td>False</td>\n",
              "      <td>True</td>\n",
              "      <td>False</td>\n",
              "      <td>False</td>\n",
              "      <td>False</td>\n",
              "    </tr>\n",
              "    <tr>\n",
              "      <th>1</th>\n",
              "      <td>1</td>\n",
              "      <td>Red Dead Redemption II</td>\n",
              "      <td>https://www.imdb.com/title/tt6161168/?ref_=adv...</td>\n",
              "      <td>2018.0</td>\n",
              "      <td>M</td>\n",
              "      <td>9.7</td>\n",
              "      <td>35,703</td>\n",
              "      <td>Amidst the decline of the Wild West at the tur...</td>\n",
              "      <td>True</td>\n",
              "      <td>True</td>\n",
              "      <td>False</td>\n",
              "      <td>True</td>\n",
              "      <td>False</td>\n",
              "      <td>False</td>\n",
              "      <td>False</td>\n",
              "      <td>False</td>\n",
              "      <td>False</td>\n",
              "    </tr>\n",
              "    <tr>\n",
              "      <th>2</th>\n",
              "      <td>2</td>\n",
              "      <td>Grand Theft Auto V</td>\n",
              "      <td>https://www.imdb.com/title/tt2103188/?ref_=adv...</td>\n",
              "      <td>2013.0</td>\n",
              "      <td>M</td>\n",
              "      <td>9.5</td>\n",
              "      <td>59,986</td>\n",
              "      <td>Three very different criminals team up for a s...</td>\n",
              "      <td>True</td>\n",
              "      <td>False</td>\n",
              "      <td>False</td>\n",
              "      <td>True</td>\n",
              "      <td>False</td>\n",
              "      <td>False</td>\n",
              "      <td>False</td>\n",
              "      <td>False</td>\n",
              "      <td>False</td>\n",
              "    </tr>\n",
              "    <tr>\n",
              "      <th>3</th>\n",
              "      <td>3</td>\n",
              "      <td>God of War</td>\n",
              "      <td>https://www.imdb.com/title/tt5838588/?ref_=adv...</td>\n",
              "      <td>2018.0</td>\n",
              "      <td>M</td>\n",
              "      <td>9.6</td>\n",
              "      <td>26,118</td>\n",
              "      <td>After wiping out the gods of Mount Olympus, Kr...</td>\n",
              "      <td>True</td>\n",
              "      <td>True</td>\n",
              "      <td>False</td>\n",
              "      <td>False</td>\n",
              "      <td>False</td>\n",
              "      <td>False</td>\n",
              "      <td>False</td>\n",
              "      <td>False</td>\n",
              "      <td>False</td>\n",
              "    </tr>\n",
              "    <tr>\n",
              "      <th>4</th>\n",
              "      <td>4</td>\n",
              "      <td>Uncharted 4: A Thief's End</td>\n",
              "      <td>https://www.imdb.com/title/tt3334704/?ref_=adv...</td>\n",
              "      <td>2016.0</td>\n",
              "      <td>T</td>\n",
              "      <td>9.5</td>\n",
              "      <td>28,722</td>\n",
              "      <td>Thrown back into the dangerous underworld he'd...</td>\n",
              "      <td>True</td>\n",
              "      <td>True</td>\n",
              "      <td>False</td>\n",
              "      <td>False</td>\n",
              "      <td>False</td>\n",
              "      <td>False</td>\n",
              "      <td>False</td>\n",
              "      <td>False</td>\n",
              "      <td>False</td>\n",
              "    </tr>\n",
              "  </tbody>\n",
              "</table>\n",
              "</div>"
            ],
            "text/plain": [
              "   Unnamed: 0                        name  \\\n",
              "0           0                  Spider-Man   \n",
              "1           1      Red Dead Redemption II   \n",
              "2           2          Grand Theft Auto V   \n",
              "3           3                  God of War   \n",
              "4           4  Uncharted 4: A Thief's End   \n",
              "\n",
              "                                                 url    year certificate  \\\n",
              "0  https://www.imdb.com/title/tt5807780/?ref_=adv...  2018.0           T   \n",
              "1  https://www.imdb.com/title/tt6161168/?ref_=adv...  2018.0           M   \n",
              "2  https://www.imdb.com/title/tt2103188/?ref_=adv...  2013.0           M   \n",
              "3  https://www.imdb.com/title/tt5838588/?ref_=adv...  2018.0           M   \n",
              "4  https://www.imdb.com/title/tt3334704/?ref_=adv...  2016.0           T   \n",
              "\n",
              "  rating   votes                                       plot summary  Action  \\\n",
              "0    9.2  20,759  When a new villain threatens New York City, Pe...    True   \n",
              "1    9.7  35,703  Amidst the decline of the Wild West at the tur...    True   \n",
              "2    9.5  59,986  Three very different criminals team up for a s...    True   \n",
              "3    9.6  26,118  After wiping out the gods of Mount Olympus, Kr...    True   \n",
              "4    9.5  28,722  Thrown back into the dangerous underworld he'd...    True   \n",
              "\n",
              "   Adventure  Comedy  Crime  Family  Fantasy  Mystery  Sci-Fi  Thriller  \n",
              "0       True   False  False   False     True    False   False     False  \n",
              "1       True   False   True   False    False    False   False     False  \n",
              "2      False   False   True   False    False    False   False     False  \n",
              "3       True   False  False   False    False    False   False     False  \n",
              "4       True   False  False   False    False    False   False     False  "
            ]
          },
          "execution_count": 267,
          "metadata": {},
          "output_type": "execute_result"
        }
      ],
      "source": [
        "df.head()"
      ]
    },
    {
      "cell_type": "code",
      "execution_count": 268,
      "metadata": {
        "colab": {
          "base_uri": "https://localhost:8080/"
        },
        "id": "eR6x6BUwhptZ",
        "outputId": "e2b94951-3d5d-47bf-e3e4-c5c571d2d879"
      },
      "outputs": [
        {
          "data": {
            "text/plain": [
              "(20805, 17)"
            ]
          },
          "execution_count": 268,
          "metadata": {},
          "output_type": "execute_result"
        }
      ],
      "source": [
        "df.shape"
      ]
    },
    {
      "cell_type": "code",
      "execution_count": 269,
      "metadata": {
        "colab": {
          "base_uri": "https://localhost:8080/"
        },
        "id": "kx4xO7-biEGK",
        "outputId": "a5d0a366-f1eb-46e6-a56b-59699a4d9fad"
      },
      "outputs": [
        {
          "name": "stdout",
          "output_type": "stream",
          "text": [
            "<class 'pandas.core.frame.DataFrame'>\n",
            "RangeIndex: 20805 entries, 0 to 20804\n",
            "Data columns (total 17 columns):\n",
            " #   Column        Non-Null Count  Dtype  \n",
            "---  ------        --------------  -----  \n",
            " 0   Unnamed: 0    20805 non-null  int64  \n",
            " 1   name          20805 non-null  object \n",
            " 2   url           20805 non-null  object \n",
            " 3   year          20538 non-null  float64\n",
            " 4   certificate   7905 non-null   object \n",
            " 5   rating        11602 non-null  object \n",
            " 6   votes         11602 non-null  object \n",
            " 7   plot summary  20805 non-null  object \n",
            " 8   Action        20805 non-null  bool   \n",
            " 9   Adventure     20805 non-null  bool   \n",
            " 10  Comedy        20805 non-null  bool   \n",
            " 11  Crime         20805 non-null  bool   \n",
            " 12  Family        20805 non-null  bool   \n",
            " 13  Fantasy       20805 non-null  bool   \n",
            " 14  Mystery       20805 non-null  bool   \n",
            " 15  Sci-Fi        20805 non-null  bool   \n",
            " 16  Thriller      20805 non-null  bool   \n",
            "dtypes: bool(9), float64(1), int64(1), object(6)\n",
            "memory usage: 1.4+ MB\n"
          ]
        }
      ],
      "source": [
        "df.info()"
      ]
    },
    {
      "cell_type": "code",
      "execution_count": 270,
      "metadata": {},
      "outputs": [
        {
          "data": {
            "text/plain": [
              "T            2474\n",
              "E            2006\n",
              "M            1820\n",
              "E10+          814\n",
              "Unrated       241\n",
              "K-A           229\n",
              "Not Rated     184\n",
              "AO             32\n",
              "GA             26\n",
              "EC             25\n",
              "CE             13\n",
              "12              9\n",
              "PG-13           7\n",
              "MA-13           7\n",
              "Approved        4\n",
              "G               4\n",
              "MA-17           3\n",
              "PG              3\n",
              "TV-MA           2\n",
              "Passed          1\n",
              "TV-14           1\n",
              "Name: certificate, dtype: int64"
            ]
          },
          "execution_count": 270,
          "metadata": {},
          "output_type": "execute_result"
        }
      ],
      "source": [
        "df.certificate.value_counts()"
      ]
    },
    {
      "cell_type": "code",
      "execution_count": 271,
      "metadata": {},
      "outputs": [
        {
          "data": {
            "text/plain": [
              "2"
            ]
          },
          "execution_count": 271,
          "metadata": {},
          "output_type": "execute_result"
        }
      ],
      "source": [
        "df.duplicated().sum()"
      ]
    },
    {
      "cell_type": "code",
      "execution_count": 272,
      "metadata": {},
      "outputs": [],
      "source": [
        "df.drop_duplicates(inplace=True)"
      ]
    },
    {
      "cell_type": "code",
      "execution_count": 273,
      "metadata": {},
      "outputs": [
        {
          "data": {
            "text/plain": [
              "0"
            ]
          },
          "execution_count": 273,
          "metadata": {},
          "output_type": "execute_result"
        }
      ],
      "source": [
        "df.duplicated().sum()"
      ]
    },
    {
      "cell_type": "code",
      "execution_count": 274,
      "metadata": {},
      "outputs": [],
      "source": [
        "df.dtypes\n",
        "\n",
        "df.rating.replace(' ', inplace=True)\n",
        "df.rating.replace('*9.0', '9', inplace=True)\n",
        "df.rating = df.rating.astype(float)\n",
        "df.votes.replace(' ', inplace=True)\n",
        "df.votes = df.votes.str.replace(',', '')\n",
        "df.votes = df.votes.astype(float)"
      ]
    },
    {
      "cell_type": "code",
      "execution_count": 275,
      "metadata": {},
      "outputs": [
        {
          "name": "stdout",
          "output_type": "stream",
          "text": [
            "<class 'pandas.core.frame.DataFrame'>\n",
            "Int64Index: 20803 entries, 0 to 20804\n",
            "Data columns (total 17 columns):\n",
            " #   Column        Non-Null Count  Dtype  \n",
            "---  ------        --------------  -----  \n",
            " 0   Unnamed: 0    20803 non-null  int64  \n",
            " 1   name          20803 non-null  object \n",
            " 2   url           20803 non-null  object \n",
            " 3   year          20536 non-null  float64\n",
            " 4   certificate   7903 non-null   object \n",
            " 5   rating        11600 non-null  float64\n",
            " 6   votes         11600 non-null  float64\n",
            " 7   plot summary  20803 non-null  object \n",
            " 8   Action        20803 non-null  bool   \n",
            " 9   Adventure     20803 non-null  bool   \n",
            " 10  Comedy        20803 non-null  bool   \n",
            " 11  Crime         20803 non-null  bool   \n",
            " 12  Family        20803 non-null  bool   \n",
            " 13  Fantasy       20803 non-null  bool   \n",
            " 14  Mystery       20803 non-null  bool   \n",
            " 15  Sci-Fi        20803 non-null  bool   \n",
            " 16  Thriller      20803 non-null  bool   \n",
            "dtypes: bool(9), float64(3), int64(1), object(4)\n",
            "memory usage: 1.6+ MB\n"
          ]
        }
      ],
      "source": [
        "df.info()"
      ]
    },
    {
      "cell_type": "code",
      "execution_count": 276,
      "metadata": {},
      "outputs": [],
      "source": [
        "df.columns\n",
        "df.drop('Unnamed: 0', axis = 1, inplace=True)\n",
        "df.rename(columns={'plot summary':'plot_summary'}, inplace=True)\n",
        "df.rename(columns={'Sci-Fi':'Sci_Fi'}, inplace= True)"
      ]
    },
    {
      "cell_type": "markdown",
      "metadata": {},
      "source": [
        "## Questions"
      ]
    },
    {
      "cell_type": "markdown",
      "metadata": {},
      "source": [
        "### 1. What is the average rating for Action games?"
      ]
    },
    {
      "cell_type": "code",
      "execution_count": 277,
      "metadata": {},
      "outputs": [
        {
          "data": {
            "text/plain": [
              "7.068877867327932"
            ]
          },
          "execution_count": 277,
          "metadata": {},
          "output_type": "execute_result"
        }
      ],
      "source": [
        "df[df.Action].rating.mean()"
      ]
    },
    {
      "cell_type": "markdown",
      "metadata": {},
      "source": [
        "### 2. What is the average rating of games after 2010? What is the average rating of games before (and including) 2010?"
      ]
    },
    {
      "cell_type": "code",
      "execution_count": 278,
      "metadata": {},
      "outputs": [
        {
          "data": {
            "text/plain": [
              "7.119838056680145"
            ]
          },
          "execution_count": 278,
          "metadata": {},
          "output_type": "execute_result"
        }
      ],
      "source": [
        "game_votes = df[(df.year > 2010) ].rating.mean()\n",
        "game_votes"
      ]
    },
    {
      "cell_type": "code",
      "execution_count": 279,
      "metadata": {},
      "outputs": [
        {
          "data": {
            "text/plain": [
              "7.00639189189191"
            ]
          },
          "execution_count": 279,
          "metadata": {},
          "output_type": "execute_result"
        }
      ],
      "source": [
        "game_votes = df[(df.year <= 2010) ].rating.mean()\n",
        "game_votes"
      ]
    },
    {
      "cell_type": "markdown",
      "metadata": {},
      "source": [
        "### 3. What games include \"Fallout\" in their title?"
      ]
    },
    {
      "cell_type": "code",
      "execution_count": null,
      "metadata": {},
      "outputs": [],
      "source": [
        "df[df.name.str.contains(\"Fallout\")]"
      ]
    },
    {
      "cell_type": "markdown",
      "metadata": {},
      "source": [
        "### 4. What is the most common certificate for Sci-Fi games? "
      ]
    },
    {
      "cell_type": "code",
      "execution_count": 308,
      "metadata": {},
      "outputs": [
        {
          "data": {
            "text/plain": [
              "T            424\n",
              "M            339\n",
              "E            185\n",
              "E10+          94\n",
              "Unrated       46\n",
              "K-A           41\n",
              "Not Rated     29\n",
              "GA             5\n",
              "AO             5\n",
              "MA-13          4\n",
              "12             3\n",
              "EC             3\n",
              "MA-17          1\n",
              "PG-13          1\n",
              "G              1\n",
              "Approved       1\n",
              "Name: certificate, dtype: int64"
            ]
          },
          "metadata": {},
          "output_type": "display_data"
        }
      ],
      "source": [
        "cert = max = df[df.Sci_Fi].certificate.value_counts()\n",
        "max = df[df.Sci_Fi].certificate.value_counts().max()\n",
        "\n",
        "display(cert)\n"
      ]
    },
    {
      "cell_type": "markdown",
      "metadata": {},
      "source": [
        "### 5. What percent of Thiller games have M or AO certificate?"
      ]
    },
    {
      "cell_type": "code",
      "execution_count": null,
      "metadata": {},
      "outputs": [],
      "source": []
    },
    {
      "cell_type": "markdown",
      "metadata": {},
      "source": [
        "### 6. What is the mean and median rating for Family games? for Action games?"
      ]
    },
    {
      "cell_type": "code",
      "execution_count": 282,
      "metadata": {},
      "outputs": [
        {
          "data": {
            "text/html": [
              "<div>\n",
              "<style scoped>\n",
              "    .dataframe tbody tr th:only-of-type {\n",
              "        vertical-align: middle;\n",
              "    }\n",
              "\n",
              "    .dataframe tbody tr th {\n",
              "        vertical-align: top;\n",
              "    }\n",
              "\n",
              "    .dataframe thead th {\n",
              "        text-align: right;\n",
              "    }\n",
              "</style>\n",
              "<table border=\"1\" class=\"dataframe\">\n",
              "  <thead>\n",
              "    <tr style=\"text-align: right;\">\n",
              "      <th></th>\n",
              "      <th>mean</th>\n",
              "      <th>median</th>\n",
              "    </tr>\n",
              "    <tr>\n",
              "      <th>Action</th>\n",
              "      <th></th>\n",
              "      <th></th>\n",
              "    </tr>\n",
              "  </thead>\n",
              "  <tbody>\n",
              "    <tr>\n",
              "      <th>False</th>\n",
              "      <td>6.998812</td>\n",
              "      <td>7.2</td>\n",
              "    </tr>\n",
              "    <tr>\n",
              "      <th>True</th>\n",
              "      <td>7.068878</td>\n",
              "      <td>7.2</td>\n",
              "    </tr>\n",
              "  </tbody>\n",
              "</table>\n",
              "</div>"
            ],
            "text/plain": [
              "            mean  median\n",
              "Action                  \n",
              "False   6.998812     7.2\n",
              "True    7.068878     7.2"
            ]
          },
          "execution_count": 282,
          "metadata": {},
          "output_type": "execute_result"
        }
      ],
      "source": [
        "df.groupby(['Action']).rating.agg(['mean','median'])\n"
      ]
    },
    {
      "cell_type": "code",
      "execution_count": 283,
      "metadata": {},
      "outputs": [
        {
          "data": {
            "text/html": [
              "<div>\n",
              "<style scoped>\n",
              "    .dataframe tbody tr th:only-of-type {\n",
              "        vertical-align: middle;\n",
              "    }\n",
              "\n",
              "    .dataframe tbody tr th {\n",
              "        vertical-align: top;\n",
              "    }\n",
              "\n",
              "    .dataframe thead th {\n",
              "        text-align: right;\n",
              "    }\n",
              "</style>\n",
              "<table border=\"1\" class=\"dataframe\">\n",
              "  <thead>\n",
              "    <tr style=\"text-align: right;\">\n",
              "      <th></th>\n",
              "      <th>mean</th>\n",
              "      <th>median</th>\n",
              "    </tr>\n",
              "    <tr>\n",
              "      <th>Family</th>\n",
              "      <th></th>\n",
              "      <th></th>\n",
              "    </tr>\n",
              "  </thead>\n",
              "  <tbody>\n",
              "    <tr>\n",
              "      <th>False</th>\n",
              "      <td>7.104128</td>\n",
              "      <td>7.3</td>\n",
              "    </tr>\n",
              "    <tr>\n",
              "      <th>True</th>\n",
              "      <td>6.686450</td>\n",
              "      <td>6.9</td>\n",
              "    </tr>\n",
              "  </tbody>\n",
              "</table>\n",
              "</div>"
            ],
            "text/plain": [
              "            mean  median\n",
              "Family                  \n",
              "False   7.104128     7.3\n",
              "True    6.686450     6.9"
            ]
          },
          "execution_count": 283,
          "metadata": {},
          "output_type": "execute_result"
        }
      ],
      "source": [
        "df.groupby(['Family']).rating.agg(['mean','median'])"
      ]
    },
    {
      "cell_type": "markdown",
      "metadata": {},
      "source": [
        "### 7. Which game from 2018 got the most votes? "
      ]
    },
    {
      "cell_type": "code",
      "execution_count": 284,
      "metadata": {},
      "outputs": [
        {
          "data": {
            "text/html": [
              "<div>\n",
              "<style scoped>\n",
              "    .dataframe tbody tr th:only-of-type {\n",
              "        vertical-align: middle;\n",
              "    }\n",
              "\n",
              "    .dataframe tbody tr th {\n",
              "        vertical-align: top;\n",
              "    }\n",
              "\n",
              "    .dataframe thead th {\n",
              "        text-align: right;\n",
              "    }\n",
              "</style>\n",
              "<table border=\"1\" class=\"dataframe\">\n",
              "  <thead>\n",
              "    <tr style=\"text-align: right;\">\n",
              "      <th></th>\n",
              "      <th>name</th>\n",
              "      <th>year</th>\n",
              "      <th>votes</th>\n",
              "    </tr>\n",
              "  </thead>\n",
              "  <tbody>\n",
              "    <tr>\n",
              "      <th>15915</th>\n",
              "      <td>Red Dead Redemption II</td>\n",
              "      <td>2018.0</td>\n",
              "      <td>35709.0</td>\n",
              "    </tr>\n",
              "  </tbody>\n",
              "</table>\n",
              "</div>"
            ],
            "text/plain": [
              "                         name    year    votes\n",
              "15915  Red Dead Redemption II  2018.0  35709.0"
            ]
          },
          "execution_count": 284,
          "metadata": {},
          "output_type": "execute_result"
        }
      ],
      "source": [
        "game_votes = df[(df.year == 2018) ].sort_values(\"votes\", ascending=False)\n",
        "game_votes[[\"name\",\"year\", \"votes\"]].head(1)"
      ]
    },
    {
      "cell_type": "markdown",
      "metadata": {},
      "source": [
        "### 8. What is the average rating for each genre (Action, Adventure, Comedy, Crime, Family, Fantasy, Mystery, Sci-Fi, and Thriller)?"
      ]
    },
    {
      "cell_type": "code",
      "execution_count": 285,
      "metadata": {},
      "outputs": [
        {
          "data": {
            "text/plain": [
              "Action\n",
              "False    6.998812\n",
              "True     7.068878\n",
              "Name: rating, dtype: float64"
            ]
          },
          "execution_count": 285,
          "metadata": {},
          "output_type": "execute_result"
        }
      ],
      "source": [
        "df.groupby('Action').rating.mean()\n"
      ]
    },
    {
      "cell_type": "code",
      "execution_count": 286,
      "metadata": {},
      "outputs": [
        {
          "data": {
            "text/plain": [
              "Adventure\n",
              "False    6.788333\n",
              "True     7.249050\n",
              "Name: rating, dtype: float64"
            ]
          },
          "execution_count": 286,
          "metadata": {},
          "output_type": "execute_result"
        }
      ],
      "source": [
        "df.groupby('Adventure').rating.mean()"
      ]
    },
    {
      "cell_type": "code",
      "execution_count": 287,
      "metadata": {},
      "outputs": [
        {
          "data": {
            "text/plain": [
              "Comedy\n",
              "False    7.032130\n",
              "True     7.186753\n",
              "Name: rating, dtype: float64"
            ]
          },
          "execution_count": 287,
          "metadata": {},
          "output_type": "execute_result"
        }
      ],
      "source": [
        "df.groupby('Comedy').rating.mean()"
      ]
    },
    {
      "cell_type": "code",
      "execution_count": 288,
      "metadata": {},
      "outputs": [
        {
          "data": {
            "text/plain": [
              "Crime\n",
              "False    7.030993\n",
              "True     7.315111\n",
              "Name: rating, dtype: float64"
            ]
          },
          "execution_count": 288,
          "metadata": {},
          "output_type": "execute_result"
        }
      ],
      "source": [
        "df.groupby('Crime').rating.mean()"
      ]
    },
    {
      "cell_type": "code",
      "execution_count": 289,
      "metadata": {},
      "outputs": [
        {
          "data": {
            "text/plain": [
              "Family\n",
              "False    7.104128\n",
              "True     6.686450\n",
              "Name: rating, dtype: float64"
            ]
          },
          "execution_count": 289,
          "metadata": {},
          "output_type": "execute_result"
        }
      ],
      "source": [
        "df.groupby('Family').rating.mean()"
      ]
    },
    {
      "cell_type": "code",
      "execution_count": 290,
      "metadata": {},
      "outputs": [
        {
          "data": {
            "text/plain": [
              "Fantasy\n",
              "False    6.976189\n",
              "True     7.261732\n",
              "Name: rating, dtype: float64"
            ]
          },
          "execution_count": 290,
          "metadata": {},
          "output_type": "execute_result"
        }
      ],
      "source": [
        "df.groupby('Fantasy').rating.mean()"
      ]
    },
    {
      "cell_type": "code",
      "execution_count": 291,
      "metadata": {},
      "outputs": [
        {
          "data": {
            "text/plain": [
              "Mystery\n",
              "False    7.021001\n",
              "True     7.451329\n",
              "Name: rating, dtype: float64"
            ]
          },
          "execution_count": 291,
          "metadata": {},
          "output_type": "execute_result"
        }
      ],
      "source": [
        "df.groupby('Mystery').rating.mean()"
      ]
    },
    {
      "cell_type": "code",
      "execution_count": 297,
      "metadata": {},
      "outputs": [
        {
          "data": {
            "text/plain": [
              "Sci_Fi\n",
              "False    7.068984\n",
              "True     6.949254\n",
              "Name: rating, dtype: float64"
            ]
          },
          "execution_count": 297,
          "metadata": {},
          "output_type": "execute_result"
        }
      ],
      "source": [
        "df.groupby('Sci_Fi').rating.mean()"
      ]
    },
    {
      "cell_type": "code",
      "execution_count": 298,
      "metadata": {},
      "outputs": [
        {
          "data": {
            "text/plain": [
              "Thriller\n",
              "False    7.045595\n",
              "True     7.107143\n",
              "Name: rating, dtype: float64"
            ]
          },
          "execution_count": 298,
          "metadata": {},
          "output_type": "execute_result"
        }
      ],
      "source": [
        "df.groupby('Thriller').rating.mean()"
      ]
    },
    {
      "cell_type": "markdown",
      "metadata": {},
      "source": [
        "### 9. Which year's games received the most votes?"
      ]
    },
    {
      "cell_type": "code",
      "execution_count": 299,
      "metadata": {},
      "outputs": [
        {
          "name": "stderr",
          "output_type": "stream",
          "text": [
            "C:\\Users\\shelt\\AppData\\Local\\Temp\\ipykernel_14212\\3414593538.py:1: FutureWarning: Indexing with multiple keys (implicitly converted to a tuple of keys) will be deprecated, use a list instead.\n",
            "  df.groupby('year')['name', 'votes'].max()\n"
          ]
        },
        {
          "data": {
            "text/html": [
              "<div>\n",
              "<style scoped>\n",
              "    .dataframe tbody tr th:only-of-type {\n",
              "        vertical-align: middle;\n",
              "    }\n",
              "\n",
              "    .dataframe tbody tr th {\n",
              "        vertical-align: top;\n",
              "    }\n",
              "\n",
              "    .dataframe thead th {\n",
              "        text-align: right;\n",
              "    }\n",
              "</style>\n",
              "<table border=\"1\" class=\"dataframe\">\n",
              "  <thead>\n",
              "    <tr style=\"text-align: right;\">\n",
              "      <th></th>\n",
              "      <th>name</th>\n",
              "      <th>votes</th>\n",
              "    </tr>\n",
              "    <tr>\n",
              "      <th>year</th>\n",
              "      <th></th>\n",
              "      <th></th>\n",
              "    </tr>\n",
              "  </thead>\n",
              "  <tbody>\n",
              "    <tr>\n",
              "      <th>1952.0</th>\n",
              "      <td>OXO</td>\n",
              "      <td>22.0</td>\n",
              "    </tr>\n",
              "    <tr>\n",
              "      <th>1962.0</th>\n",
              "      <td>Spacewar!</td>\n",
              "      <td>50.0</td>\n",
              "    </tr>\n",
              "    <tr>\n",
              "      <th>1964.0</th>\n",
              "      <td>The Sumerian Game</td>\n",
              "      <td>NaN</td>\n",
              "    </tr>\n",
              "    <tr>\n",
              "      <th>1969.0</th>\n",
              "      <td>Space Travel</td>\n",
              "      <td>13.0</td>\n",
              "    </tr>\n",
              "    <tr>\n",
              "      <th>1970.0</th>\n",
              "      <td>Highnoon</td>\n",
              "      <td>12.0</td>\n",
              "    </tr>\n",
              "    <tr>\n",
              "      <th>...</th>\n",
              "      <td>...</td>\n",
              "      <td>...</td>\n",
              "    </tr>\n",
              "    <tr>\n",
              "      <th>2022.0</th>\n",
              "      <td>Zenith: The Last City</td>\n",
              "      <td>4116.0</td>\n",
              "    </tr>\n",
              "    <tr>\n",
              "      <th>2023.0</th>\n",
              "      <td>Xmen legends 3</td>\n",
              "      <td>NaN</td>\n",
              "    </tr>\n",
              "    <tr>\n",
              "      <th>2024.0</th>\n",
              "      <td>Wolverine</td>\n",
              "      <td>NaN</td>\n",
              "    </tr>\n",
              "    <tr>\n",
              "      <th>2025.0</th>\n",
              "      <td>Outlaws of Immortal Sorcery: Wild Hunt</td>\n",
              "      <td>NaN</td>\n",
              "    </tr>\n",
              "    <tr>\n",
              "      <th>2027.0</th>\n",
              "      <td>The Elder Scrolls VI</td>\n",
              "      <td>NaN</td>\n",
              "    </tr>\n",
              "  </tbody>\n",
              "</table>\n",
              "<p>61 rows × 2 columns</p>\n",
              "</div>"
            ],
            "text/plain": [
              "                                          name   votes\n",
              "year                                                  \n",
              "1952.0                                     OXO    22.0\n",
              "1962.0                               Spacewar!    50.0\n",
              "1964.0                       The Sumerian Game     NaN\n",
              "1969.0                            Space Travel    13.0\n",
              "1970.0                                Highnoon    12.0\n",
              "...                                        ...     ...\n",
              "2022.0                   Zenith: The Last City  4116.0\n",
              "2023.0                          Xmen legends 3     NaN\n",
              "2024.0                               Wolverine     NaN\n",
              "2025.0  Outlaws of Immortal Sorcery: Wild Hunt     NaN\n",
              "2027.0                    The Elder Scrolls VI     NaN\n",
              "\n",
              "[61 rows x 2 columns]"
            ]
          },
          "execution_count": 299,
          "metadata": {},
          "output_type": "execute_result"
        }
      ],
      "source": [
        "df.groupby('year')['name', 'votes'].max()"
      ]
    },
    {
      "cell_type": "markdown",
      "metadata": {},
      "source": [
        "### 10. What's the average number of votes for games that are not Action games?"
      ]
    },
    {
      "cell_type": "code",
      "execution_count": null,
      "metadata": {},
      "outputs": [],
      "source": []
    },
    {
      "cell_type": "markdown",
      "metadata": {},
      "source": [
        "### 11. What game are platformers?"
      ]
    },
    {
      "cell_type": "code",
      "execution_count": null,
      "metadata": {},
      "outputs": [],
      "source": []
    },
    {
      "cell_type": "markdown",
      "metadata": {},
      "source": []
    }
  ],
  "metadata": {
    "colab": {
      "authorship_tag": "ABX9TyPG+ssWMxKywRQDkeiR9E1U",
      "include_colab_link": true,
      "mount_file_id": "1V16IS1TA0CmRy78Zy03QMP9hHtjmYEcW",
      "name": "EDA_10Steps.ipynb",
      "provenance": []
    },
    "kernelspec": {
      "display_name": "Python 3.9.12 ('base')",
      "language": "python",
      "name": "python3"
    },
    "language_info": {
      "codemirror_mode": {
        "name": "ipython",
        "version": 3
      },
      "file_extension": ".py",
      "mimetype": "text/x-python",
      "name": "python",
      "nbconvert_exporter": "python",
      "pygments_lexer": "ipython3",
      "version": "3.9.12"
    },
    "vscode": {
      "interpreter": {
        "hash": "4555e744365ba023ab33c3ee7661a748735771c7fe0ec10fd20afc0645f4d986"
      }
    }
  },
  "nbformat": 4,
  "nbformat_minor": 0
}
